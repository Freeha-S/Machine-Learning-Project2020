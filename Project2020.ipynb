{
 "cells": [
  {
   "cell_type": "markdown",
   "metadata": {},
   "source": [
    "# Machine Learning and Statistics\n",
    "## Lecturer: Ian Mcloughlin\n",
    "## Project-2020"
   ]
  },
  {
   "cell_type": "markdown",
   "metadata": {},
   "source": [
    "The goal is to produce a model that accurately predicts wind turbine power output from wind speed values, as in the data set.In this Jupyter notebook we explore the given data set and  trains a model using the data set. In the notebook also explain the model and give an analysis of its accuracy."
   ]
  },
  {
   "cell_type": "code",
   "execution_count": 47,
   "metadata": {},
   "outputs": [],
   "source": [
    "import numpy as np"
   ]
  },
  {
   "cell_type": "code",
   "execution_count": 48,
   "metadata": {},
   "outputs": [],
   "source": [
    "# import seaborn \n",
    "import seaborn as sns\n",
    "# Seaborn is a library for making statistical graphics in Python\n",
    "#It is built on top of matplotlib and closely integrated with pandas data structures.\n",
    "\n",
    "%matplotlib inline \n",
    "# https://stackoverflow.com/a/43028105 to fix the graph \n",
    "# import matplotlib\n",
    "import matplotlib.pyplot as plt\n",
    "#Matplotlib is a Python 2D plotting library \n",
    "#which produces publication quality figures in a variety of hardcopy formats and interactive environments across platforms.\n",
    "\n",
    "# import pandas\n",
    "import pandas as pd\n",
    "\n",
    "# sklearn packages we need for regression import later in regression part to keep that altogather\n",
    "#from sklearn.model_selection import train_test_split \n",
    "#from sklearn.linear_model import LinearRegression"
   ]
  },
  {
   "cell_type": "markdown",
   "metadata": {},
   "source": [
    "### Load Dataset"
   ]
  },
  {
   "cell_type": "code",
   "execution_count": 49,
   "metadata": {},
   "outputs": [],
   "source": [
    "df = pd.read_csv(\"./powerproduction.csv\")\n"
   ]
  },
  {
   "cell_type": "markdown",
   "metadata": {},
   "source": [
    "### Exploratory Data Analysis(EDA)\n",
    "EDA is an analysis approach that focuses on identifying general patterns in the data and to find previously unknown relationships."
   ]
  },
  {
   "cell_type": "code",
   "execution_count": 50,
   "metadata": {},
   "outputs": [
    {
     "data": {
      "text/html": [
       "<div>\n",
       "<style scoped>\n",
       "    .dataframe tbody tr th:only-of-type {\n",
       "        vertical-align: middle;\n",
       "    }\n",
       "\n",
       "    .dataframe tbody tr th {\n",
       "        vertical-align: top;\n",
       "    }\n",
       "\n",
       "    .dataframe thead th {\n",
       "        text-align: right;\n",
       "    }\n",
       "</style>\n",
       "<table border=\"1\" class=\"dataframe\">\n",
       "  <thead>\n",
       "    <tr style=\"text-align: right;\">\n",
       "      <th></th>\n",
       "      <th>speed</th>\n",
       "      <th>power</th>\n",
       "    </tr>\n",
       "  </thead>\n",
       "  <tbody>\n",
       "    <tr>\n",
       "      <th>0</th>\n",
       "      <td>0.000</td>\n",
       "      <td>0.0</td>\n",
       "    </tr>\n",
       "    <tr>\n",
       "      <th>1</th>\n",
       "      <td>0.125</td>\n",
       "      <td>0.0</td>\n",
       "    </tr>\n",
       "    <tr>\n",
       "      <th>2</th>\n",
       "      <td>0.150</td>\n",
       "      <td>0.0</td>\n",
       "    </tr>\n",
       "    <tr>\n",
       "      <th>3</th>\n",
       "      <td>0.225</td>\n",
       "      <td>0.0</td>\n",
       "    </tr>\n",
       "    <tr>\n",
       "      <th>4</th>\n",
       "      <td>0.275</td>\n",
       "      <td>0.0</td>\n",
       "    </tr>\n",
       "    <tr>\n",
       "      <th>...</th>\n",
       "      <td>...</td>\n",
       "      <td>...</td>\n",
       "    </tr>\n",
       "    <tr>\n",
       "      <th>495</th>\n",
       "      <td>24.775</td>\n",
       "      <td>0.0</td>\n",
       "    </tr>\n",
       "    <tr>\n",
       "      <th>496</th>\n",
       "      <td>24.850</td>\n",
       "      <td>0.0</td>\n",
       "    </tr>\n",
       "    <tr>\n",
       "      <th>497</th>\n",
       "      <td>24.875</td>\n",
       "      <td>0.0</td>\n",
       "    </tr>\n",
       "    <tr>\n",
       "      <th>498</th>\n",
       "      <td>24.950</td>\n",
       "      <td>0.0</td>\n",
       "    </tr>\n",
       "    <tr>\n",
       "      <th>499</th>\n",
       "      <td>25.000</td>\n",
       "      <td>0.0</td>\n",
       "    </tr>\n",
       "  </tbody>\n",
       "</table>\n",
       "<p>500 rows × 2 columns</p>\n",
       "</div>"
      ],
      "text/plain": [
       "      speed  power\n",
       "0     0.000    0.0\n",
       "1     0.125    0.0\n",
       "2     0.150    0.0\n",
       "3     0.225    0.0\n",
       "4     0.275    0.0\n",
       "..      ...    ...\n",
       "495  24.775    0.0\n",
       "496  24.850    0.0\n",
       "497  24.875    0.0\n",
       "498  24.950    0.0\n",
       "499  25.000    0.0\n",
       "\n",
       "[500 rows x 2 columns]"
      ]
     },
     "execution_count": 50,
     "metadata": {},
     "output_type": "execute_result"
    }
   ],
   "source": [
    "df"
   ]
  },
  {
   "cell_type": "code",
   "execution_count": 51,
   "metadata": {},
   "outputs": [
    {
     "data": {
      "text/plain": [
       "(500, 2)"
      ]
     },
     "execution_count": 51,
     "metadata": {},
     "output_type": "execute_result"
    }
   ],
   "source": [
    "df.shape"
   ]
  },
  {
   "cell_type": "code",
   "execution_count": 52,
   "metadata": {},
   "outputs": [
    {
     "data": {
      "text/plain": [
       "Index(['speed', 'power'], dtype='object')"
      ]
     },
     "execution_count": 52,
     "metadata": {},
     "output_type": "execute_result"
    }
   ],
   "source": [
    "df.columns"
   ]
  },
  {
   "cell_type": "code",
   "execution_count": 53,
   "metadata": {},
   "outputs": [
    {
     "name": "stdout",
     "output_type": "stream",
     "text": [
      "<class 'pandas.core.frame.DataFrame'>\n",
      "RangeIndex: 500 entries, 0 to 499\n",
      "Data columns (total 2 columns):\n",
      " #   Column  Non-Null Count  Dtype  \n",
      "---  ------  --------------  -----  \n",
      " 0   speed   500 non-null    float64\n",
      " 1   power   500 non-null    float64\n",
      "dtypes: float64(2)\n",
      "memory usage: 7.9 KB\n"
     ]
    }
   ],
   "source": [
    "df.info()"
   ]
  },
  {
   "cell_type": "markdown",
   "metadata": {},
   "source": [
    "### Statistical summary"
   ]
  },
  {
   "cell_type": "code",
   "execution_count": 54,
   "metadata": {},
   "outputs": [
    {
     "name": "stdout",
     "output_type": "stream",
     "text": [
      "            speed       power\n",
      "count  500.000000  500.000000\n",
      "mean    12.590398   48.014584\n",
      "std      7.224991   41.614572\n",
      "min      0.000000    0.000000\n",
      "25%      6.324750    5.288000\n",
      "50%     12.550500   41.645500\n",
      "75%     18.775250   93.537000\n",
      "max     25.000000  113.556000\n"
     ]
    }
   ],
   "source": [
    "print(df.describe())"
   ]
  },
  {
   "cell_type": "code",
   "execution_count": 55,
   "metadata": {},
   "outputs": [
    {
     "data": {
      "text/plain": [
       "<matplotlib.axes._subplots.AxesSubplot at 0x1e84a7b33d0>"
      ]
     },
     "execution_count": 55,
     "metadata": {},
     "output_type": "execute_result"
    },
    {
     "data": {
      "image/png": "[encoded data removed]",
      "text/plain": [
       "<Figure size 432x288 with 1 Axes>"
      ]
     },
     "metadata": {
      "needs_background": "light"
     },
     "output_type": "display_data"
    }
   ],
   "source": [
    "sns.distplot(df['speed'])"
   ]
  },
  {
   "cell_type": "code",
   "execution_count": 56,
   "metadata": {},
   "outputs": [
    {
     "data": {
      "text/plain": [
       "<matplotlib.axes._subplots.AxesSubplot at 0x1e84a83dbe0>"
      ]
     },
     "execution_count": 56,
     "metadata": {},
     "output_type": "execute_result"
    },
    {
     "data": {
      "image/png": "[encoded data removed]",
      "text/plain": [
       "<Figure size 432x288 with 1 Axes>"
      ]
     },
     "metadata": {
      "needs_background": "light"
     },
     "output_type": "display_data"
    }
   ],
   "source": [
    "sns.distplot(df['power'])"
   ]
  },
  {
   "cell_type": "markdown",
   "metadata": {},
   "source": [
    "### scatter plot"
   ]
  },
  {
   "cell_type": "code",
   "execution_count": 57,
   "metadata": {},
   "outputs": [
    {
     "data": {
      "text/plain": [
       "<matplotlib.axes._subplots.AxesSubplot at 0x1e84aacf0d0>"
      ]
     },
     "execution_count": 57,
     "metadata": {},
     "output_type": "execute_result"
    },
    {
     "data": {
      "image/png": "[encoded data removed]",
      "text/plain": [
       "<Figure size 432x288 with 1 Axes>"
      ]
     },
     "metadata": {
      "needs_background": "light"
     },
     "output_type": "display_data"
    }
   ],
   "source": [
    "sns.scatterplot(x='speed',y='power',data = df)"
   ]
  },
  {
   "cell_type": "markdown",
   "metadata": {},
   "source": [
    "There are few outliears"
   ]
  },
  {
   "cell_type": "markdown",
   "metadata": {},
   "source": [
    "The shape of the graph is like S"
   ]
  },
  {
   "cell_type": "markdown",
   "metadata": {},
   "source": [
    "Linear Regression"
   ]
  },
  {
   "cell_type": "code",
   "execution_count": 58,
   "metadata": {},
   "outputs": [
    {
     "data": {
      "image/png": "[encoded data removed]",
      "text/plain": [
       "<Figure size 432x288 with 1 Axes>"
      ]
     },
     "metadata": {
      "needs_background": "light"
     },
     "output_type": "display_data"
    }
   ],
   "source": [
    "sns.regplot(x='speed',y='power',data = df)\n",
    "plt.show()"
   ]
  },
  {
   "cell_type": "markdown",
   "metadata": {},
   "source": [
    "### Outliers\n",
    "as you can see from the above graph that the are some outliers that are at power 0 to check the number of outliers<br>\n",
    "Wikipedia definition,<br>\n",
    "In statistics, an outlier is an observation point that is distant from other observations."
   ]
  },
  {
   "cell_type": "code",
   "execution_count": 59,
   "metadata": {},
   "outputs": [
    {
     "name": "stdout",
     "output_type": "stream",
     "text": [
      "      speed  power\n",
      "0     0.000    0.0\n",
      "1     0.125    0.0\n",
      "2     0.150    0.0\n",
      "3     0.225    0.0\n",
      "4     0.275    0.0\n",
      "15    0.726    0.0\n",
      "16    0.751    0.0\n",
      "24    1.026    0.0\n",
      "26    1.076    0.0\n",
      "31    1.301    0.0\n",
      "35    1.552    0.0\n",
      "37    1.677    0.0\n",
      "39    1.827    0.0\n",
      "42    2.027    0.0\n",
      "43    2.077    0.0\n",
      "44    2.102    0.0\n",
      "47    2.252    0.0\n",
      "60    3.128    0.0\n",
      "65    3.504    0.0\n",
      "67    3.579    0.0\n",
      "70    3.679    0.0\n",
      "73    3.779    0.0\n",
      "74    3.804    0.0\n",
      "75    3.879    0.0\n",
      "83    4.429    0.0\n",
      "89    4.880    0.0\n",
      "105   5.556    0.0\n",
      "110   5.781    0.0\n",
      "111   5.806    0.0\n",
      "114   5.931    0.0\n",
      "133   6.782    0.0\n",
      "135   6.857    0.0\n",
      "136   6.957    0.0\n",
      "140   7.107    0.0\n",
      "149   7.432    0.0\n",
      "208  10.511    0.0\n",
      "340  17.167    0.0\n",
      "404  20.095    0.0\n",
      "456  22.998    0.0\n",
      "490  24.499    0.0\n",
      "491  24.525    0.0\n",
      "492  24.575    0.0\n",
      "493  24.650    0.0\n",
      "494  24.750    0.0\n",
      "495  24.775    0.0\n",
      "496  24.850    0.0\n",
      "497  24.875    0.0\n",
      "498  24.950    0.0\n",
      "499  25.000    0.0\n"
     ]
    },
    {
     "data": {
      "text/plain": [
       "speed    49\n",
       "power    49\n",
       "dtype: int64"
      ]
     },
     "execution_count": 59,
     "metadata": {},
     "output_type": "execute_result"
    }
   ],
   "source": [
    "print (df[df.power == 0])\n",
    "df2= df[df.power == 0]\n",
    "df2.count()"
   ]
  },
  {
   "cell_type": "markdown",
   "metadata": {},
   "source": [
    "there are 49 rows where power is 0"
   ]
  },
  {
   "cell_type": "code",
   "execution_count": 60,
   "metadata": {},
   "outputs": [
    {
     "data": {
      "text/plain": [
       "speed     1\n",
       "power    49\n",
       "dtype: int64"
      ]
     },
     "execution_count": 60,
     "metadata": {},
     "output_type": "execute_result"
    }
   ],
   "source": [
    "df.isin([0]).sum()"
   ]
  },
  {
   "cell_type": "code",
   "execution_count": 61,
   "metadata": {},
   "outputs": [],
   "source": [
    "index = df[(df['power'] == 0)].index\n",
    "df.drop(index, inplace=True)\n",
    "#drop the rows where power is 0 to remove outliers"
   ]
  },
  {
   "cell_type": "code",
   "execution_count": 62,
   "metadata": {},
   "outputs": [
    {
     "data": {
      "text/html": [
       "<div>\n",
       "<style scoped>\n",
       "    .dataframe tbody tr th:only-of-type {\n",
       "        vertical-align: middle;\n",
       "    }\n",
       "\n",
       "    .dataframe tbody tr th {\n",
       "        vertical-align: top;\n",
       "    }\n",
       "\n",
       "    .dataframe thead th {\n",
       "        text-align: right;\n",
       "    }\n",
       "</style>\n",
       "<table border=\"1\" class=\"dataframe\">\n",
       "  <thead>\n",
       "    <tr style=\"text-align: right;\">\n",
       "      <th></th>\n",
       "      <th>speed</th>\n",
       "      <th>power</th>\n",
       "    </tr>\n",
       "  </thead>\n",
       "  <tbody>\n",
       "    <tr>\n",
       "      <th>count</th>\n",
       "      <td>451.000000</td>\n",
       "      <td>451.000000</td>\n",
       "    </tr>\n",
       "    <tr>\n",
       "      <th>mean</th>\n",
       "      <td>13.004302</td>\n",
       "      <td>53.231246</td>\n",
       "    </tr>\n",
       "    <tr>\n",
       "      <th>std</th>\n",
       "      <td>6.835979</td>\n",
       "      <td>40.522055</td>\n",
       "    </tr>\n",
       "    <tr>\n",
       "      <th>min</th>\n",
       "      <td>0.325000</td>\n",
       "      <td>0.067000</td>\n",
       "    </tr>\n",
       "    <tr>\n",
       "      <th>25%</th>\n",
       "      <td>7.344500</td>\n",
       "      <td>8.543500</td>\n",
       "    </tr>\n",
       "    <tr>\n",
       "      <th>50%</th>\n",
       "      <td>13.038000</td>\n",
       "      <td>58.168000</td>\n",
       "    </tr>\n",
       "    <tr>\n",
       "      <th>75%</th>\n",
       "      <td>18.781500</td>\n",
       "      <td>94.725500</td>\n",
       "    </tr>\n",
       "    <tr>\n",
       "      <th>max</th>\n",
       "      <td>24.399000</td>\n",
       "      <td>113.556000</td>\n",
       "    </tr>\n",
       "  </tbody>\n",
       "</table>\n",
       "</div>"
      ],
      "text/plain": [
       "            speed       power\n",
       "count  451.000000  451.000000\n",
       "mean    13.004302   53.231246\n",
       "std      6.835979   40.522055\n",
       "min      0.325000    0.067000\n",
       "25%      7.344500    8.543500\n",
       "50%     13.038000   58.168000\n",
       "75%     18.781500   94.725500\n",
       "max     24.399000  113.556000"
      ]
     },
     "execution_count": 62,
     "metadata": {},
     "output_type": "execute_result"
    }
   ],
   "source": [
    "df.describe()"
   ]
  },
  {
   "cell_type": "code",
   "execution_count": 63,
   "metadata": {},
   "outputs": [
    {
     "data": {
      "text/plain": [
       "<matplotlib.axes._subplots.AxesSubplot at 0x1e84ab5fb50>"
      ]
     },
     "execution_count": 63,
     "metadata": {},
     "output_type": "execute_result"
    },
    {
     "data": {
      "image/png": "[encoded data removed]",
      "text/plain": [
       "<Figure size 432x288 with 1 Axes>"
      ]
     },
     "metadata": {
      "needs_background": "light"
     },
     "output_type": "display_data"
    }
   ],
   "source": [
    "#graph after removing outliers\n",
    "sns.scatterplot(x='speed',y='power',data = df)"
   ]
  },
  {
   "cell_type": "markdown",
   "metadata": {},
   "source": [
    "positive S shaped function. As we look at the regplot it is obvious that the linear regression does not fit the data."
   ]
  },
  {
   "cell_type": "code",
   "execution_count": 64,
   "metadata": {},
   "outputs": [
    {
     "data": {
      "image/png": "[encoded data removed]",
      "text/plain": [
       "<Figure size 360x360 with 6 Axes>"
      ]
     },
     "metadata": {
      "needs_background": "light"
     },
     "output_type": "display_data"
    }
   ],
   "source": [
    "sns.pairplot(df)\n",
    "plt.show()"
   ]
  },
  {
   "cell_type": "markdown",
   "metadata": {},
   "source": [
    "## Fitting a Curve"
   ]
  },
  {
   "cell_type": "code",
   "execution_count": 65,
   "metadata": {},
   "outputs": [
    {
     "data": {
      "image/png": "[encoded data removed]",
      "text/plain": [
       "<Figure size 432x288 with 1 Axes>"
      ]
     },
     "metadata": {
      "needs_background": "light"
     },
     "output_type": "display_data"
    }
   ],
   "source": [
    "#\n",
    "from scipy.optimize import curve_fit\n",
    "from matplotlib import pyplot\n",
    " \n",
    "# define the true objective function\n",
    "def objective(x, a, b, c, d, e, f):\n",
    "\treturn (a * x) + (b * x**2) + (c * x**3) + (d * x**4) + (e * x**5) + f\n",
    " \n",
    "\n",
    "# choose the input and output variables\n",
    "x, y = df['speed'], df['power']\n",
    "# curve fit\n",
    "popt, _ = curve_fit(objective, x, y)\n",
    "# summarize the parameter values\n",
    "a, b, c, d, e, f = popt\n",
    "# plot input vs output\n",
    "pyplot.scatter(x, y)\n",
    "# define a sequence of inputs between the smallest and largest known inputs\n",
    "x_line = np.arange(min(x), max(x), 1)\n",
    "# calculate the output for the range\n",
    "y_line = objective(x_line, a, b, c, d, e, f)\n",
    "# create a line plot for the mapping function\n",
    "pyplot.plot(x_line, y_line, '--', color='red')\n",
    "pyplot.show()\n",
    "# code adopted from https://machinelearningmastery.com/curve-fitting-with-python/"
   ]
  },
  {
   "cell_type": "code",
   "execution_count": 66,
   "metadata": {},
   "outputs": [
    {
     "data": {
      "image/png": "[encoded data removed]",
      "text/plain": [
       "<Figure size 432x288 with 1 Axes>"
      ]
     },
     "metadata": {
      "needs_background": "light"
     },
     "output_type": "display_data"
    }
   ],
   "source": [
    "from scipy.optimize import curve_fit\n",
    "xdata=df['speed']\n",
    "ydata=df['power']\n",
    "def sigmoid(x, L ,x0, k, b):\n",
    "    y = L / (1 + np.exp(-k*(x-x0)))+b\n",
    "    return (y)\n",
    "\n",
    "p0 = [max(ydata), np.median(xdata),1,min(ydata)] # this is an mandatory initial guess\n",
    "\n",
    "popt, pcov = curve_fit(sigmoid, xdata, ydata,p0,method='dogbox')\n",
    "plt.scatter(xdata, ydata)\n",
    "# define a sequence of inputs between the smallest and largest known inputs\n",
    "x_line = np.arange(min(xdata), max(xdata), 1)\n",
    "# calculate the output for the range\n",
    "y_line = sigmoid(x_line, *popt)\n",
    "# create a line plot for the mapping function\n",
    "plt.plot(x_line, y_line, '--', color='red')\n",
    "plt.show()\n",
    "# code adopted from https://stackoverflow.com/a/62215374"
   ]
  },
  {
   "cell_type": "markdown",
   "metadata": {},
   "source": [
    "## Polynomial Model"
   ]
  },
  {
   "cell_type": "code",
   "execution_count": 67,
   "metadata": {},
   "outputs": [],
   "source": [
    "#polynomial regression\n",
    "X=df[['speed']]\n",
    "y=df['power']"
   ]
  },
  {
   "cell_type": "code",
   "execution_count": 68,
   "metadata": {},
   "outputs": [
    {
     "data": {
      "text/plain": [
       "LinearRegression()"
      ]
     },
     "execution_count": 68,
     "metadata": {},
     "output_type": "execute_result"
    }
   ],
   "source": [
    "from sklearn.preprocessing import PolynomialFeatures\n",
    "from sklearn.linear_model import LinearRegression\n",
    "from sklearn.model_selection import train_test_split\n",
    "X_train, X_test, y_train, y_test = train_test_split(X, y, test_size = 0.2)\n",
    "poly_reg = PolynomialFeatures(degree = 3)\n",
    "X_poly = poly_reg.fit_transform(X_train)\n",
    "lin_reg = LinearRegression()\n",
    "lin_reg.fit(X_poly, y_train)"
   ]
  },
  {
   "cell_type": "markdown",
   "metadata": {},
   "source": [
    "### Predicting the Results\n",
    "In this step, we are going to predict the values Salary based on the Polynomial Regression model built. The “regressor.predict” function is used to predict the values for our independent variable, X_poly. We assign the predicted values as y_pred. We now have two data, y(real values) and y_pred (predicted values)."
   ]
  },
  {
   "cell_type": "code",
   "execution_count": 69,
   "metadata": {},
   "outputs": [
    {
     "name": "stdout",
     "output_type": "stream",
     "text": [
      "[ 11.39790215  -1.62571538 102.03226298  -0.24057934  10.81971486\n",
      " 101.64802476  57.24854955  87.06720749  87.77062121   1.4405377\n",
      "  12.9929142  101.94040422  95.29083285   3.38254716 103.12560007\n",
      "  28.63136749 103.69290001   3.73650024  80.67407226  27.13621897\n",
      "  95.29295643  66.41310002  72.80517356  53.98951669   6.98375941\n",
      "   6.80424689 103.47797654  25.45229783 103.99205779 101.95764674\n",
      "  -1.68731121  84.52270729  11.4738366    6.17248012  96.87658014\n",
      "  17.3043931   92.98860822  75.98636953  13.33270775 100.23158207\n",
      "   5.76614349   8.09897742   5.26292072  -1.88881915  37.95971209\n",
      "  98.43853297  96.22864176   8.17712383   7.00868535 101.32074141\n",
      "  38.41543985  -0.96180827  12.47704834  56.78404189 104.24863621\n",
      " 103.86027873  95.83205558 104.29762124  10.01902942  65.96343485\n",
      "   8.4853423   94.3101904   28.84653044 104.28284244   0.68564352\n",
      " 103.70513865  89.81416911 102.64142258 103.61872914   5.63246742\n",
      "   5.236803   103.03653744  -2.53074502  93.66652316 104.30947288\n",
      "  -1.40854266  98.53372372   1.74079031  -0.14187278  74.72509475\n",
      "  94.59466563  43.02306893  99.52857461   3.0231312   91.44327514\n",
      "  11.62003916  70.63563839  82.04439271 103.15598187  23.18371603\n",
      "  87.59578416]\n"
     ]
    }
   ],
   "source": [
    "X_polytest = poly_reg.fit_transform(X_test)\n",
    "y_pred = lin_reg.predict(X_polytest)\n",
    "print(y_pred)"
   ]
  },
  {
   "cell_type": "code",
   "execution_count": 70,
   "metadata": {},
   "outputs": [
    {
     "data": {
      "text/html": [
       "<div>\n",
       "<style scoped>\n",
       "    .dataframe tbody tr th:only-of-type {\n",
       "        vertical-align: middle;\n",
       "    }\n",
       "\n",
       "    .dataframe tbody tr th {\n",
       "        vertical-align: top;\n",
       "    }\n",
       "\n",
       "    .dataframe thead th {\n",
       "        text-align: right;\n",
       "    }\n",
       "</style>\n",
       "<table border=\"1\" class=\"dataframe\">\n",
       "  <thead>\n",
       "    <tr style=\"text-align: right;\">\n",
       "      <th></th>\n",
       "      <th>Real Values</th>\n",
       "      <th>Predicted Values</th>\n",
       "      <th>difference</th>\n",
       "    </tr>\n",
       "  </thead>\n",
       "  <tbody>\n",
       "    <tr>\n",
       "      <th>14</th>\n",
       "      <td>9.746</td>\n",
       "      <td>11.397902</td>\n",
       "      <td>-1.651902</td>\n",
       "    </tr>\n",
       "    <tr>\n",
       "      <th>59</th>\n",
       "      <td>3.063</td>\n",
       "      <td>-1.625715</td>\n",
       "      <td>4.688715</td>\n",
       "    </tr>\n",
       "    <tr>\n",
       "      <th>397</th>\n",
       "      <td>94.780</td>\n",
       "      <td>102.032263</td>\n",
       "      <td>-7.252263</td>\n",
       "    </tr>\n",
       "    <tr>\n",
       "      <th>107</th>\n",
       "      <td>3.036</td>\n",
       "      <td>-0.240579</td>\n",
       "      <td>3.276579</td>\n",
       "    </tr>\n",
       "    <tr>\n",
       "      <th>162</th>\n",
       "      <td>5.696</td>\n",
       "      <td>10.819715</td>\n",
       "      <td>-5.123715</td>\n",
       "    </tr>\n",
       "    <tr>\n",
       "      <th>...</th>\n",
       "      <td>...</td>\n",
       "      <td>...</td>\n",
       "      <td>...</td>\n",
       "    </tr>\n",
       "    <tr>\n",
       "      <th>292</th>\n",
       "      <td>72.135</td>\n",
       "      <td>70.635638</td>\n",
       "      <td>1.499362</td>\n",
       "    </tr>\n",
       "    <tr>\n",
       "      <th>319</th>\n",
       "      <td>87.192</td>\n",
       "      <td>82.044393</td>\n",
       "      <td>5.147607</td>\n",
       "    </tr>\n",
       "    <tr>\n",
       "      <th>442</th>\n",
       "      <td>101.190</td>\n",
       "      <td>103.155982</td>\n",
       "      <td>-1.965982</td>\n",
       "    </tr>\n",
       "    <tr>\n",
       "      <th>186</th>\n",
       "      <td>14.055</td>\n",
       "      <td>23.183716</td>\n",
       "      <td>-9.128716</td>\n",
       "    </tr>\n",
       "    <tr>\n",
       "      <th>335</th>\n",
       "      <td>91.808</td>\n",
       "      <td>87.595784</td>\n",
       "      <td>4.212216</td>\n",
       "    </tr>\n",
       "  </tbody>\n",
       "</table>\n",
       "<p>91 rows × 3 columns</p>\n",
       "</div>"
      ],
      "text/plain": [
       "     Real Values  Predicted Values  difference\n",
       "14         9.746         11.397902   -1.651902\n",
       "59         3.063         -1.625715    4.688715\n",
       "397       94.780        102.032263   -7.252263\n",
       "107        3.036         -0.240579    3.276579\n",
       "162        5.696         10.819715   -5.123715\n",
       "..           ...               ...         ...\n",
       "292       72.135         70.635638    1.499362\n",
       "319       87.192         82.044393    5.147607\n",
       "442      101.190        103.155982   -1.965982\n",
       "186       14.055         23.183716   -9.128716\n",
       "335       91.808         87.595784    4.212216\n",
       "\n",
       "[91 rows x 3 columns]"
      ]
     },
     "execution_count": 70,
     "metadata": {},
     "output_type": "execute_result"
    }
   ],
   "source": [
    "#compare real value with predicted\n",
    "df = pd.DataFrame({'Real Values':y_test, 'Predicted Values':y_pred, 'difference':y_test-y_pred})\n",
    "df"
   ]
  },
  {
   "cell_type": "markdown",
   "metadata": {},
   "source": [
    "### Visualising the Polynomial Regression results\n",
    "In this last step, we shall visualize the polynomial model that was built using the given data and plot the values of “y” and “y_pred” on the graph and analyze the results"
   ]
  },
  {
   "cell_type": "code",
   "execution_count": 73,
   "metadata": {},
   "outputs": [
    {
     "data": {
      "image/png": "[encoded data removed]",
      "text/plain": [
       "<Figure size 432x288 with 1 Axes>"
      ]
     },
     "metadata": {
      "needs_background": "light"
     },
     "output_type": "display_data"
    }
   ],
   "source": [
    "import numpy as np\n",
    "plt.scatter(X, y, color = 'red')\n",
    "plt.scatter(X_test, y_pred, color = 'green')\n",
    "plt.scatter(X_test, y_test, color = 'yellow')\n",
    "plt.title('Polynomial Regression')\n",
    "plt.xlabel('Speed')\n",
    "plt.ylabel('Power')\n",
    "plt.show()"
   ]
  },
  {
   "cell_type": "code",
   "execution_count": 78,
   "metadata": {},
   "outputs": [],
   "source": [
    "poly_reg4 = PolynomialFeatures(degree = 5)# change degree\n",
    "X_poly4 = poly_reg4.fit_transform(X_train)\n",
    "lin_reg4 = LinearRegression()\n",
    "lin_reg4.fit(X_poly4, y_train)\n",
    "X_polytest4 = poly_reg4.fit_transform(X_test)\n",
    "y_pred4 = lin_reg4.predict(X_polytest4)"
   ]
  },
  {
   "cell_type": "code",
   "execution_count": 79,
   "metadata": {},
   "outputs": [
    {
     "data": {
      "image/png": "[encoded data removed]",
      "text/plain": [
       "<Figure size 432x288 with 1 Axes>"
      ]
     },
     "metadata": {
      "needs_background": "light"
     },
     "output_type": "display_data"
    }
   ],
   "source": [
    "plt.scatter(X, y, color = 'red')\n",
    "plt.scatter(X_test, y_pred4, color = 'green')\n",
    "plt.title('Polynomial Regression')\n",
    "plt.xlabel('Speed')\n",
    "plt.ylabel('Power')\n",
    "plt.show()"
   ]
  },
  {
   "cell_type": "markdown",
   "metadata": {},
   "source": [
    "### Save the model using joblib\n"
   ]
  },
  {
   "cell_type": "code",
   "execution_count": 101,
   "metadata": {},
   "outputs": [
    {
     "data": {
      "text/plain": [
       "['poly_reg5.pkl']"
      ]
     },
     "execution_count": 101,
     "metadata": {},
     "output_type": "execute_result"
    }
   ],
   "source": [
    "import joblib \n",
    "  \n",
    "# Save the model as a pickle in a file \n",
    "#joblib.dump(lin_reg, 'poly_reg.pkl') \n",
    "\n",
    "# Save the model as a pickle in a file \n",
    "joblib.dump(lin_reg4, 'poly_reg5.pkl') "
   ]
  },
  {
   "cell_type": "markdown",
   "metadata": {},
   "source": [
    "## Neural Networks Model"
   ]
  },
  {
   "cell_type": "markdown",
   "metadata": {},
   "source": [
    "2. Define Keras Model\n",
    "Models in Keras are defined as a sequence of layers.\n",
    "\n",
    "We create a Sequential model and add layers one at a time until we are happy with our network architecture.\n",
    "\n",
    "The first thing to get right is to ensure the input layer has the right number of input features. This can be specified when creating the first layer with the input_dim argument and setting it to 8 for the 8 input variables.\n",
    "\n",
    "How do we know the number of layers and their types?\n",
    "\n",
    "This is a very hard question. There are heuristics that we can use and often the best network structure is found through a process of trial and error experimentation (I explain more about this here). Generally, you need a network large enough to capture the structure of the problem.\n",
    "\n",
    "In this example, we will use a fully-connected network structure with three layers.\n",
    "\n",
    "Fully connected layers are defined using the Dense class. We can specify the number of neurons or nodes in the layer as the first argument, and specify the activation function using the activation argument.\n",
    "\n",
    "We will use the rectified linear unit activation function referred to as ReLU on the first two layers and the Sigmoid function in the output layer.\n",
    "\n",
    "It used to be the case that Sigmoid and Tanh activation functions were preferred for all layers. These days, better performance is achieved using the ReLU activation function. We use a sigmoid on the output layer to ensure our network output is between 0 and 1 and easy to map to either a probability of class 1 or snap to a hard classification of either class with a default threshold of 0.5.\n",
    "\n",
    "We can piece it all together by adding each layer:\n",
    "\n",
    "The model expects rows of data with 8 variables (the input_dim=8 argument)\n",
    "The first hidden layer has 12 nodes and uses the relu activation function.\n",
    "The second hidden layer has 8 nodes and uses the relu activation function.\n",
    "The output layer has one node and uses the sigmoid activation function."
   ]
  },
  {
   "cell_type": "code",
   "execution_count": 29,
   "metadata": {},
   "outputs": [],
   "source": [
    "# first neural network with keras\n",
    "# For neural networks\n",
    "import tensorflow.keras as kr\n",
    "#import tensorflow as tf\n",
    "# Create a Sequential model \n",
    "# kernel_initializer=\"glorot_uniform\"\n",
    "model = kr.models.Sequential()\n",
    "model.add(kr.layers.Dense(50, input_shape=(1,), activation=\"sigmoid\", kernel_initializer=\"glorot_uniform\"))\n",
    "# 2nd Hidden layer\n",
    "model.add(kr.layers.Dense(40, activation=\"sigmoid\", kernel_initializer=\"glorot_uniform\", bias_initializer=\"glorot_uniform\"))\n",
    "# 3rd Hidden layer\n",
    "model.add(kr.layers.Dense(20, activation=\"sigmoid\", kernel_initializer=\"glorot_uniform\", bias_initializer=\"glorot_uniform\"))\n",
    "# Output layer\n",
    "model.add(kr.layers.Dense(1, activation=\"linear\", kernel_initializer=\"glorot_uniform\", bias_initializer=\"glorot_uniform\"))"
   ]
  },
  {
   "cell_type": "markdown",
   "metadata": {},
   "source": [
    "Compile Keras Model\n",
    "Now that the model is defined, we can compile it.\n",
    "\n",
    "Compiling the model uses the efficient numerical libraries under the covers (the so-called backend) such as Theano or TensorFlow. The backend automatically chooses the best way to represent the network for training and making predictions to run on your hardware, such as CPU or GPU or even distributed.\n",
    "\n",
    "When compiling, we must specify some additional properties required when training the network. Remember training a network means finding the best set of weights to map inputs to outputs in our dataset.\n",
    "\n",
    "We must specify the loss function to use to evaluate a set of weights, the optimizer is used to search through different weights for the network and any optional metrics we would like to collect and report during training.\n",
    "We will define the optimizer as the efficient stochastic gradient descent algorithm “adam“. This is a popular version of gradient descent because it automatically tunes itself and gives good results in a wide range of problems. "
   ]
  },
  {
   "cell_type": "code",
   "execution_count": 30,
   "metadata": {},
   "outputs": [
    {
     "name": "stdout",
     "output_type": "stream",
     "text": [
      "Model: \"sequential\"\n",
      "_________________________________________________________________\n",
      "Layer (type)                 Output Shape              Param #   \n",
      "=================================================================\n",
      "dense (Dense)                (None, 50)                100       \n",
      "_________________________________________________________________\n",
      "dense_1 (Dense)              (None, 40)                2040      \n",
      "_________________________________________________________________\n",
      "dense_2 (Dense)              (None, 20)                820       \n",
      "_________________________________________________________________\n",
      "dense_3 (Dense)              (None, 1)                 21        \n",
      "=================================================================\n",
      "Total params: 2,981\n",
      "Trainable params: 2,981\n",
      "Non-trainable params: 0\n",
      "_________________________________________________________________\n"
     ]
    }
   ],
   "source": [
    "model.compile('adam', loss='mean_squared_error')\n",
    "model.summary()"
   ]
  },
  {
   "cell_type": "markdown",
   "metadata": {},
   "source": [
    "4. Fit Keras Model\n",
    "We have defined our model and compiled it ready for efficient computation.\n",
    "\n",
    "Now it is time to execute the model on some data.\n",
    "\n",
    "We can train or fit our model on our loaded data by calling the fit() function on the model.\n",
    "\n",
    "Training occurs over epochs and each epoch is split into batches.\n",
    "\n",
    "Epoch: One pass through all of the rows in the training dataset.\n",
    "Batch: One or more samples considered by the model within an epoch before weights are updated.\n",
    "One epoch is comprised of one or more batches, based on the chosen batch size and the model is fit for many epochs. For more on the difference between epochs and batches, see the post:\n",
    "\n",
    "What is the Difference Between a Batch and an Epoch in a Neural Network?\n",
    "The training process will run for a fixed number of iterations through the dataset called epochs, that we must specify using the epochs argument. We must also set the number of dataset rows that are considered before the model weights are updated within each epoch, called the batch size and set using the batch_size argument.\n",
    "\n",
    "For this problem, we will run for a small number of epochs (150) and use a relatively small batch size of 10.\n",
    "\n",
    "These configurations can be chosen experimentally by trial and error. We want to train the model enough so that it learns a good (or good enough) mapping of rows of input data to the output classification. The model will always have some error, but the amount of error will level out after some point for a given model configuration. This is called model convergence.\n",
    "\n"
   ]
  },
  {
   "cell_type": "code",
   "execution_count": 31,
   "metadata": {},
   "outputs": [
    {
     "name": "stdout",
     "output_type": "stream",
     "text": [
      "Epoch 1/500\n",
      "36/36 [==============================] - 3s 52ms/step - loss: 4412.2837 - val_loss: 4178.5659\n",
      "Epoch 2/500\n",
      "36/36 [==============================] - 0s 3ms/step - loss: 4851.8962 - val_loss: 4063.8835\n",
      "Epoch 3/500\n",
      "36/36 [==============================] - 0s 3ms/step - loss: 4356.6212 - val_loss: 3977.7661\n",
      "Epoch 4/500\n",
      "36/36 [==============================] - 0s 3ms/step - loss: 4408.4675 - val_loss: 3909.8049\n",
      "Epoch 5/500\n",
      "36/36 [==============================] - 0s 3ms/step - loss: 4346.3586 - val_loss: 3847.7573\n",
      "Epoch 6/500\n",
      "36/36 [==============================] - 0s 3ms/step - loss: 4066.6894 - val_loss: 3790.9797\n",
      "Epoch 7/500\n",
      "36/36 [==============================] - 0s 3ms/step - loss: 4248.0305 - val_loss: 3733.9763\n",
      "Epoch 8/500\n",
      "36/36 [==============================] - 0s 3ms/step - loss: 3855.9577 - val_loss: 3679.8186\n",
      "Epoch 9/500\n",
      "36/36 [==============================] - 0s 3ms/step - loss: 4310.4579 - val_loss: 3628.9431\n",
      "Epoch 10/500\n",
      "36/36 [==============================] - 0s 3ms/step - loss: 4099.6700 - val_loss: 3580.4985\n",
      "Epoch 11/500\n",
      "36/36 [==============================] - 0s 3ms/step - loss: 3790.2254 - val_loss: 3534.8921\n",
      "Epoch 12/500\n",
      "36/36 [==============================] - 0s 3ms/step - loss: 3636.8262 - val_loss: 3490.2578\n",
      "Epoch 13/500\n",
      "36/36 [==============================] - 0s 3ms/step - loss: 3702.4200 - val_loss: 3446.2524\n",
      "Epoch 14/500\n",
      "36/36 [==============================] - 0s 3ms/step - loss: 3744.3831 - val_loss: 3403.3320\n",
      "Epoch 15/500\n",
      "36/36 [==============================] - 0s 3ms/step - loss: 3836.1296 - val_loss: 3361.8169\n",
      "Epoch 16/500\n",
      "36/36 [==============================] - 0s 3ms/step - loss: 3731.9326 - val_loss: 3321.0930\n",
      "Epoch 17/500\n",
      "36/36 [==============================] - 0s 3ms/step - loss: 3440.6426 - val_loss: 3281.9812\n",
      "Epoch 18/500\n",
      "36/36 [==============================] - 0s 3ms/step - loss: 3560.3837 - val_loss: 3243.0615\n",
      "Epoch 19/500\n",
      "36/36 [==============================] - 0s 3ms/step - loss: 3381.3577 - val_loss: 3205.0854\n",
      "Epoch 20/500\n",
      "36/36 [==============================] - 0s 3ms/step - loss: 3194.6863 - val_loss: 3168.4089\n",
      "Epoch 21/500\n",
      "36/36 [==============================] - 0s 3ms/step - loss: 3395.0145 - val_loss: 3131.8733\n",
      "Epoch 22/500\n",
      "36/36 [==============================] - 0s 3ms/step - loss: 3265.5677 - val_loss: 3095.9026\n",
      "Epoch 23/500\n",
      "36/36 [==============================] - 0s 3ms/step - loss: 3044.0089 - val_loss: 3061.2644\n",
      "Epoch 24/500\n",
      "36/36 [==============================] - 0s 3ms/step - loss: 3216.6868 - val_loss: 3026.4238\n",
      "Epoch 25/500\n",
      "36/36 [==============================] - 0s 3ms/step - loss: 3274.1701 - val_loss: 2993.1157\n",
      "Epoch 26/500\n",
      "36/36 [==============================] - 0s 3ms/step - loss: 3188.9151 - val_loss: 2959.6074\n",
      "Epoch 27/500\n",
      "36/36 [==============================] - 0s 3ms/step - loss: 3377.7578 - val_loss: 2926.6528\n",
      "Epoch 28/500\n",
      "36/36 [==============================] - 0s 3ms/step - loss: 3045.3773 - val_loss: 2895.6450\n",
      "Epoch 29/500\n",
      "36/36 [==============================] - 0s 3ms/step - loss: 3303.6154 - val_loss: 2864.4163\n",
      "Epoch 30/500\n",
      "36/36 [==============================] - 0s 3ms/step - loss: 2967.4431 - val_loss: 2833.4163\n",
      "Epoch 31/500\n",
      "36/36 [==============================] - 0s 3ms/step - loss: 2940.0952 - val_loss: 2803.7009\n",
      "Epoch 32/500\n",
      "36/36 [==============================] - 0s 3ms/step - loss: 2910.3500 - val_loss: 2774.3035\n",
      "Epoch 33/500\n",
      "36/36 [==============================] - 0s 3ms/step - loss: 3296.5758 - val_loss: 2744.1907\n",
      "Epoch 34/500\n",
      "36/36 [==============================] - 0s 3ms/step - loss: 3043.5561 - val_loss: 2716.5596\n",
      "Epoch 35/500\n",
      "36/36 [==============================] - 0s 3ms/step - loss: 3156.7822 - val_loss: 2688.1262\n",
      "Epoch 36/500\n",
      "36/36 [==============================] - 0s 3ms/step - loss: 2858.4884 - val_loss: 2661.1250\n",
      "Epoch 37/500\n",
      "36/36 [==============================] - 0s 3ms/step - loss: 3014.2017 - val_loss: 2634.0630\n",
      "Epoch 38/500\n",
      "36/36 [==============================] - 0s 3ms/step - loss: 2834.1821 - val_loss: 2607.3264\n",
      "Epoch 39/500\n",
      "36/36 [==============================] - 0s 4ms/step - loss: 2978.6785 - val_loss: 2580.9375\n",
      "Epoch 40/500\n",
      "36/36 [==============================] - 0s 4ms/step - loss: 2491.2267 - val_loss: 2556.0952\n",
      "Epoch 41/500\n",
      "36/36 [==============================] - 0s 3ms/step - loss: 2677.9424 - val_loss: 2531.1428\n",
      "Epoch 42/500\n",
      "36/36 [==============================] - 0s 3ms/step - loss: 2996.5440 - val_loss: 2505.3875\n",
      "Epoch 43/500\n",
      "36/36 [==============================] - 0s 4ms/step - loss: 2664.3376 - val_loss: 2482.0000\n",
      "Epoch 44/500\n",
      "36/36 [==============================] - 0s 4ms/step - loss: 2779.1906 - val_loss: 2457.9768\n",
      "Epoch 45/500\n",
      "36/36 [==============================] - 0s 4ms/step - loss: 2722.3563 - val_loss: 2435.2021\n",
      "Epoch 46/500\n",
      "36/36 [==============================] - 0s 4ms/step - loss: 2616.9485 - val_loss: 2412.7158\n",
      "Epoch 47/500\n",
      "36/36 [==============================] - 0s 4ms/step - loss: 2461.5192 - val_loss: 2390.3291\n",
      "Epoch 48/500\n",
      "36/36 [==============================] - 0s 3ms/step - loss: 2657.9842 - val_loss: 2367.4387\n",
      "Epoch 49/500\n",
      "36/36 [==============================] - 0s 3ms/step - loss: 2763.1415 - val_loss: 2346.2932\n",
      "Epoch 50/500\n",
      "36/36 [==============================] - 0s 4ms/step - loss: 2546.1890 - val_loss: 2326.1838\n",
      "Epoch 51/500\n",
      "36/36 [==============================] - 0s 5ms/step - loss: 2667.3422 - val_loss: 2305.2063\n",
      "Epoch 52/500\n",
      "36/36 [==============================] - 0s 3ms/step - loss: 2699.2460 - val_loss: 2284.7852\n",
      "Epoch 53/500\n",
      "36/36 [==============================] - 0s 3ms/step - loss: 2443.8419 - val_loss: 2265.1248\n",
      "Epoch 54/500\n",
      "36/36 [==============================] - 0s 3ms/step - loss: 2585.3250 - val_loss: 2245.1226\n",
      "Epoch 55/500\n",
      "36/36 [==============================] - 0s 4ms/step - loss: 2583.9624 - val_loss: 2226.5581\n",
      "Epoch 56/500\n",
      "36/36 [==============================] - 0s 5ms/step - loss: 2405.6063 - val_loss: 2208.0393\n",
      "Epoch 57/500\n",
      "36/36 [==============================] - 0s 3ms/step - loss: 2409.5672 - val_loss: 2189.3679\n",
      "Epoch 58/500\n",
      "36/36 [==============================] - 0s 3ms/step - loss: 2380.7273 - val_loss: 2172.3237\n",
      "Epoch 59/500\n",
      "36/36 [==============================] - 0s 3ms/step - loss: 2453.4417 - val_loss: 2154.2510\n",
      "Epoch 60/500\n",
      "36/36 [==============================] - 0s 3ms/step - loss: 2379.8873 - val_loss: 2137.1353\n",
      "Epoch 61/500\n",
      "36/36 [==============================] - 0s 3ms/step - loss: 2428.3712 - val_loss: 2119.7849\n",
      "Epoch 62/500\n",
      "36/36 [==============================] - 0s 3ms/step - loss: 2484.8628 - val_loss: 2103.6353\n",
      "Epoch 63/500\n",
      "36/36 [==============================] - 0s 3ms/step - loss: 2388.4867 - val_loss: 2087.9688\n",
      "Epoch 64/500\n",
      "36/36 [==============================] - 0s 3ms/step - loss: 2255.0365 - val_loss: 2072.5530\n",
      "Epoch 65/500\n",
      "36/36 [==============================] - 0s 3ms/step - loss: 2361.7830 - val_loss: 2057.0708\n",
      "Epoch 66/500\n",
      "36/36 [==============================] - 0s 3ms/step - loss: 2230.0808 - val_loss: 2042.3040\n",
      "Epoch 67/500\n",
      "36/36 [==============================] - 0s 3ms/step - loss: 2284.2626 - val_loss: 2027.4274\n",
      "Epoch 68/500\n",
      "36/36 [==============================] - 0s 3ms/step - loss: 2207.2936 - val_loss: 2013.5436\n",
      "Epoch 69/500\n",
      "36/36 [==============================] - 0s 3ms/step - loss: 2304.9077 - val_loss: 1999.1002\n",
      "Epoch 70/500\n",
      "36/36 [==============================] - 0s 3ms/step - loss: 2256.7242 - val_loss: 1985.5857\n",
      "Epoch 71/500\n",
      "36/36 [==============================] - 0s 3ms/step - loss: 2226.0932 - val_loss: 1971.6073\n",
      "Epoch 72/500\n",
      "36/36 [==============================] - 0s 3ms/step - loss: 2165.3148 - val_loss: 1959.1920\n",
      "Epoch 73/500\n",
      "36/36 [==============================] - 0s 3ms/step - loss: 1994.7935 - val_loss: 1946.7197\n",
      "Epoch 74/500\n",
      "36/36 [==============================] - 0s 3ms/step - loss: 2093.4423 - val_loss: 1934.0862\n",
      "Epoch 75/500\n",
      "36/36 [==============================] - 0s 3ms/step - loss: 2042.7131 - val_loss: 1922.3690\n",
      "Epoch 76/500\n",
      "36/36 [==============================] - 0s 3ms/step - loss: 2064.8507 - val_loss: 1910.5120\n",
      "Epoch 77/500\n",
      "36/36 [==============================] - 0s 3ms/step - loss: 2088.8713 - val_loss: 1898.4080\n",
      "Epoch 78/500\n"
     ]
    },
    {
     "name": "stdout",
     "output_type": "stream",
     "text": [
      "36/36 [==============================] - 0s 3ms/step - loss: 1976.1520 - val_loss: 1888.2069\n",
      "Epoch 79/500\n",
      "36/36 [==============================] - 0s 3ms/step - loss: 2045.3932 - val_loss: 1876.9194\n",
      "Epoch 80/500\n",
      "36/36 [==============================] - 0s 3ms/step - loss: 1935.4078 - val_loss: 1866.0664\n",
      "Epoch 81/500\n",
      "36/36 [==============================] - 0s 3ms/step - loss: 2078.5646 - val_loss: 1855.4777\n",
      "Epoch 82/500\n",
      "36/36 [==============================] - 0s 3ms/step - loss: 1877.7003 - val_loss: 1845.9789\n",
      "Epoch 83/500\n",
      "36/36 [==============================] - 0s 3ms/step - loss: 2158.2700 - val_loss: 1835.6899\n",
      "Epoch 84/500\n",
      "36/36 [==============================] - 0s 3ms/step - loss: 1996.0152 - val_loss: 1826.6486\n",
      "Epoch 85/500\n",
      "36/36 [==============================] - 0s 3ms/step - loss: 1952.8917 - val_loss: 1817.1761\n",
      "Epoch 86/500\n",
      "36/36 [==============================] - 0s 3ms/step - loss: 2066.4396 - val_loss: 1807.6200\n",
      "Epoch 87/500\n",
      "36/36 [==============================] - 0s 3ms/step - loss: 1950.0116 - val_loss: 1799.0717\n",
      "Epoch 88/500\n",
      "36/36 [==============================] - 0s 3ms/step - loss: 1969.3487 - val_loss: 1790.4366\n",
      "Epoch 89/500\n",
      "36/36 [==============================] - 0s 3ms/step - loss: 1817.0508 - val_loss: 1782.8890\n",
      "Epoch 90/500\n",
      "36/36 [==============================] - 0s 3ms/step - loss: 1910.0935 - val_loss: 1774.4594\n",
      "Epoch 91/500\n",
      "36/36 [==============================] - 0s 3ms/step - loss: 2015.8029 - val_loss: 1766.5905\n",
      "Epoch 92/500\n",
      "36/36 [==============================] - 0s 3ms/step - loss: 1881.2396 - val_loss: 1759.0913\n",
      "Epoch 93/500\n",
      "36/36 [==============================] - 0s 3ms/step - loss: 1845.1286 - val_loss: 1752.0919\n",
      "Epoch 94/500\n",
      "36/36 [==============================] - 0s 3ms/step - loss: 1765.1354 - val_loss: 1745.0588\n",
      "Epoch 95/500\n",
      "36/36 [==============================] - 0s 3ms/step - loss: 1857.6817 - val_loss: 1737.8552\n",
      "Epoch 96/500\n",
      "36/36 [==============================] - 0s 3ms/step - loss: 1800.2850 - val_loss: 1731.4081\n",
      "Epoch 97/500\n",
      "36/36 [==============================] - 0s 3ms/step - loss: 1835.8342 - val_loss: 1724.5479\n",
      "Epoch 98/500\n",
      "36/36 [==============================] - 0s 3ms/step - loss: 1812.8986 - val_loss: 1718.6298\n",
      "Epoch 99/500\n",
      "36/36 [==============================] - 0s 3ms/step - loss: 1766.9989 - val_loss: 1712.6177\n",
      "Epoch 100/500\n",
      "36/36 [==============================] - 0s 3ms/step - loss: 1868.3062 - val_loss: 1706.4279\n",
      "Epoch 101/500\n",
      "36/36 [==============================] - 0s 3ms/step - loss: 1786.3935 - val_loss: 1701.2151\n",
      "Epoch 102/500\n",
      "36/36 [==============================] - 0s 3ms/step - loss: 1794.8111 - val_loss: 1695.4125\n",
      "Epoch 103/500\n",
      "36/36 [==============================] - 0s 3ms/step - loss: 1891.0164 - val_loss: 1690.2030\n",
      "Epoch 104/500\n",
      "36/36 [==============================] - 0s 3ms/step - loss: 1868.7334 - val_loss: 1684.8665\n",
      "Epoch 105/500\n",
      "36/36 [==============================] - 0s 3ms/step - loss: 1922.9888 - val_loss: 1679.9382\n",
      "Epoch 106/500\n",
      "36/36 [==============================] - 0s 3ms/step - loss: 1878.0530 - val_loss: 1674.7277\n",
      "Epoch 107/500\n",
      "36/36 [==============================] - 0s 3ms/step - loss: 1749.2944 - val_loss: 1670.5419\n",
      "Epoch 108/500\n",
      "36/36 [==============================] - 0s 3ms/step - loss: 1768.6883 - val_loss: 1666.7131\n",
      "Epoch 109/500\n",
      "36/36 [==============================] - 0s 3ms/step - loss: 1797.9129 - val_loss: 1661.8893\n",
      "Epoch 110/500\n",
      "36/36 [==============================] - 0s 3ms/step - loss: 1693.2423 - val_loss: 1658.3477\n",
      "Epoch 111/500\n",
      "36/36 [==============================] - 0s 3ms/step - loss: 1793.4700 - val_loss: 1654.0583\n",
      "Epoch 112/500\n",
      "36/36 [==============================] - 0s 3ms/step - loss: 1796.4073 - val_loss: 1650.2112\n",
      "Epoch 113/500\n",
      "36/36 [==============================] - 0s 3ms/step - loss: 1763.2660 - val_loss: 1646.7318\n",
      "Epoch 114/500\n",
      "36/36 [==============================] - 0s 3ms/step - loss: 1714.5952 - val_loss: 1643.3378\n",
      "Epoch 115/500\n",
      "36/36 [==============================] - 0s 3ms/step - loss: 1802.8522 - val_loss: 1639.8611\n",
      "Epoch 116/500\n",
      "36/36 [==============================] - 0s 3ms/step - loss: 1799.4827 - val_loss: 1636.6333\n",
      "Epoch 117/500\n",
      "36/36 [==============================] - 0s 3ms/step - loss: 1782.6736 - val_loss: 1633.7666\n",
      "Epoch 118/500\n",
      "36/36 [==============================] - 0s 3ms/step - loss: 1792.8822 - val_loss: 1630.6489\n",
      "Epoch 119/500\n",
      "36/36 [==============================] - 0s 3ms/step - loss: 1678.0956 - val_loss: 1628.2007\n",
      "Epoch 120/500\n",
      "36/36 [==============================] - 0s 3ms/step - loss: 1801.5428 - val_loss: 1625.4041\n",
      "Epoch 121/500\n",
      "36/36 [==============================] - 0s 3ms/step - loss: 1714.0380 - val_loss: 1622.7854\n",
      "Epoch 122/500\n",
      "36/36 [==============================] - 0s 3ms/step - loss: 1694.2935 - val_loss: 1620.0946\n",
      "Epoch 123/500\n",
      "36/36 [==============================] - 0s 3ms/step - loss: 1793.9914 - val_loss: 1618.2618\n",
      "Epoch 124/500\n",
      "36/36 [==============================] - 0s 3ms/step - loss: 1822.2788 - val_loss: 1615.9148\n",
      "Epoch 125/500\n",
      "36/36 [==============================] - 0s 3ms/step - loss: 1785.7037 - val_loss: 1613.7263\n",
      "Epoch 126/500\n",
      "36/36 [==============================] - 0s 3ms/step - loss: 1676.9375 - val_loss: 1611.7424\n",
      "Epoch 127/500\n",
      "36/36 [==============================] - 0s 3ms/step - loss: 1724.1272 - val_loss: 1609.8755\n",
      "Epoch 128/500\n",
      "36/36 [==============================] - 0s 3ms/step - loss: 1774.9739 - val_loss: 1608.3506\n",
      "Epoch 129/500\n",
      "36/36 [==============================] - 0s 3ms/step - loss: 1714.9894 - val_loss: 1606.5527\n",
      "Epoch 130/500\n",
      "36/36 [==============================] - 0s 3ms/step - loss: 1709.6202 - val_loss: 1604.9899\n",
      "Epoch 131/500\n",
      "36/36 [==============================] - 0s 3ms/step - loss: 1699.3667 - val_loss: 1603.3079\n",
      "Epoch 132/500\n",
      "36/36 [==============================] - 0s 3ms/step - loss: 1693.3233 - val_loss: 1601.7880\n",
      "Epoch 133/500\n",
      "36/36 [==============================] - 0s 3ms/step - loss: 1689.3444 - val_loss: 1600.6608\n",
      "Epoch 134/500\n",
      "36/36 [==============================] - 0s 3ms/step - loss: 1709.6992 - val_loss: 1599.3906\n",
      "Epoch 135/500\n",
      "36/36 [==============================] - 0s 3ms/step - loss: 1692.1604 - val_loss: 1598.2325\n",
      "Epoch 136/500\n",
      "36/36 [==============================] - 0s 3ms/step - loss: 1712.1036 - val_loss: 1597.0790\n",
      "Epoch 137/500\n",
      "36/36 [==============================] - 0s 3ms/step - loss: 1589.2295 - val_loss: 1596.1774\n",
      "Epoch 138/500\n",
      "36/36 [==============================] - 0s 3ms/step - loss: 1769.4383 - val_loss: 1594.9612\n",
      "Epoch 139/500\n",
      "36/36 [==============================] - 0s 3ms/step - loss: 1668.0016 - val_loss: 1593.0541\n",
      "Epoch 140/500\n",
      "36/36 [==============================] - 0s 3ms/step - loss: 1643.7610 - val_loss: 1591.5875\n",
      "Epoch 141/500\n",
      "36/36 [==============================] - 0s 3ms/step - loss: 1765.8494 - val_loss: 1589.4346\n",
      "Epoch 142/500\n",
      "36/36 [==============================] - 0s 3ms/step - loss: 1624.9140 - val_loss: 1584.5924\n",
      "Epoch 143/500\n",
      "36/36 [==============================] - 0s 3ms/step - loss: 1647.9228 - val_loss: 1568.6145\n",
      "Epoch 144/500\n",
      "36/36 [==============================] - 0s 3ms/step - loss: 1538.0024 - val_loss: 1100.3977\n",
      "Epoch 145/500\n",
      "36/36 [==============================] - 0s 3ms/step - loss: 1033.7645 - val_loss: 908.4846\n",
      "Epoch 146/500\n",
      "36/36 [==============================] - 0s 3ms/step - loss: 1038.2897 - val_loss: 857.0306\n",
      "Epoch 147/500\n",
      "36/36 [==============================] - 0s 3ms/step - loss: 887.1834 - val_loss: 829.5471\n",
      "Epoch 148/500\n",
      "36/36 [==============================] - 0s 3ms/step - loss: 964.8285 - val_loss: 798.0616\n",
      "Epoch 149/500\n",
      "36/36 [==============================] - 0s 3ms/step - loss: 782.3750 - val_loss: 775.4172\n",
      "Epoch 150/500\n",
      "36/36 [==============================] - 0s 3ms/step - loss: 833.6828 - val_loss: 746.7823\n",
      "Epoch 151/500\n",
      "36/36 [==============================] - 0s 3ms/step - loss: 814.8424 - val_loss: 716.3022\n",
      "Epoch 152/500\n",
      "36/36 [==============================] - 0s 3ms/step - loss: 749.0531 - val_loss: 689.9379\n",
      "Epoch 153/500\n",
      "36/36 [==============================] - 0s 3ms/step - loss: 741.1180 - val_loss: 669.0362\n",
      "Epoch 154/500\n",
      "36/36 [==============================] - 0s 3ms/step - loss: 692.6460 - val_loss: 647.1346\n",
      "Epoch 155/500\n"
     ]
    },
    {
     "name": "stdout",
     "output_type": "stream",
     "text": [
      "36/36 [==============================] - 0s 3ms/step - loss: 661.3056 - val_loss: 626.6870\n",
      "Epoch 156/500\n",
      "36/36 [==============================] - 0s 3ms/step - loss: 661.0101 - val_loss: 608.6329\n",
      "Epoch 157/500\n",
      "36/36 [==============================] - 0s 3ms/step - loss: 647.3941 - val_loss: 590.2499\n",
      "Epoch 158/500\n",
      "36/36 [==============================] - 0s 3ms/step - loss: 717.2709 - val_loss: 573.0618\n",
      "Epoch 159/500\n",
      "36/36 [==============================] - 0s 3ms/step - loss: 625.2528 - val_loss: 556.4348\n",
      "Epoch 160/500\n",
      "36/36 [==============================] - 0s 3ms/step - loss: 606.0441 - val_loss: 542.7796\n",
      "Epoch 161/500\n",
      "36/36 [==============================] - 0s 3ms/step - loss: 611.7996 - val_loss: 524.4485\n",
      "Epoch 162/500\n",
      "36/36 [==============================] - 0s 3ms/step - loss: 583.9995 - val_loss: 511.6001\n",
      "Epoch 163/500\n",
      "36/36 [==============================] - 0s 3ms/step - loss: 509.0965 - val_loss: 497.2205\n",
      "Epoch 164/500\n",
      "36/36 [==============================] - 0s 3ms/step - loss: 470.7729 - val_loss: 483.4930\n",
      "Epoch 165/500\n",
      "36/36 [==============================] - 0s 3ms/step - loss: 530.2941 - val_loss: 471.7314\n",
      "Epoch 166/500\n",
      "36/36 [==============================] - 0s 3ms/step - loss: 497.0984 - val_loss: 455.6186\n",
      "Epoch 167/500\n",
      "36/36 [==============================] - 0s 3ms/step - loss: 455.5954 - val_loss: 444.5298\n",
      "Epoch 168/500\n",
      "36/36 [==============================] - 0s 3ms/step - loss: 489.9825 - val_loss: 429.3755\n",
      "Epoch 169/500\n",
      "36/36 [==============================] - 0s 3ms/step - loss: 502.7049 - val_loss: 417.9247\n",
      "Epoch 170/500\n",
      "36/36 [==============================] - 0s 3ms/step - loss: 444.5402 - val_loss: 409.6320\n",
      "Epoch 171/500\n",
      "36/36 [==============================] - 0s 3ms/step - loss: 464.0266 - val_loss: 394.4279\n",
      "Epoch 172/500\n",
      "36/36 [==============================] - 0s 3ms/step - loss: 409.6969 - val_loss: 383.6848\n",
      "Epoch 173/500\n",
      "36/36 [==============================] - 0s 3ms/step - loss: 434.0815 - val_loss: 376.1356\n",
      "Epoch 174/500\n",
      "36/36 [==============================] - 0s 3ms/step - loss: 404.6297 - val_loss: 363.1308\n",
      "Epoch 175/500\n",
      "36/36 [==============================] - 0s 3ms/step - loss: 366.4412 - val_loss: 353.3436\n",
      "Epoch 176/500\n",
      "36/36 [==============================] - 0s 3ms/step - loss: 385.8819 - val_loss: 343.9213\n",
      "Epoch 177/500\n",
      "36/36 [==============================] - 0s 3ms/step - loss: 350.4852 - val_loss: 325.6960\n",
      "Epoch 178/500\n",
      "36/36 [==============================] - 0s 3ms/step - loss: 355.0161 - val_loss: 320.8224\n",
      "Epoch 179/500\n",
      "36/36 [==============================] - 0s 3ms/step - loss: 293.6726 - val_loss: 301.5341\n",
      "Epoch 180/500\n",
      "36/36 [==============================] - 0s 3ms/step - loss: 324.8540 - val_loss: 290.6707\n",
      "Epoch 181/500\n",
      "36/36 [==============================] - 0s 3ms/step - loss: 326.0110 - val_loss: 282.3671\n",
      "Epoch 182/500\n",
      "36/36 [==============================] - 0s 3ms/step - loss: 272.3709 - val_loss: 272.0984\n",
      "Epoch 183/500\n",
      "36/36 [==============================] - 0s 3ms/step - loss: 321.8368 - val_loss: 263.5751\n",
      "Epoch 184/500\n",
      "36/36 [==============================] - 0s 3ms/step - loss: 284.2827 - val_loss: 254.6849\n",
      "Epoch 185/500\n",
      "36/36 [==============================] - 0s 3ms/step - loss: 290.6639 - val_loss: 247.3338\n",
      "Epoch 186/500\n",
      "36/36 [==============================] - 0s 3ms/step - loss: 265.9213 - val_loss: 238.7778\n",
      "Epoch 187/500\n",
      "36/36 [==============================] - 0s 3ms/step - loss: 232.3284 - val_loss: 231.3588\n",
      "Epoch 188/500\n",
      "36/36 [==============================] - 0s 3ms/step - loss: 254.2114 - val_loss: 224.3046\n",
      "Epoch 189/500\n",
      "36/36 [==============================] - 0s 3ms/step - loss: 253.6771 - val_loss: 221.9613\n",
      "Epoch 190/500\n",
      "36/36 [==============================] - 0s 3ms/step - loss: 255.5166 - val_loss: 210.4577\n",
      "Epoch 191/500\n",
      "36/36 [==============================] - 0s 3ms/step - loss: 211.1856 - val_loss: 204.5075\n",
      "Epoch 192/500\n",
      "36/36 [==============================] - 0s 3ms/step - loss: 198.6882 - val_loss: 196.7849\n",
      "Epoch 193/500\n",
      "36/36 [==============================] - 0s 3ms/step - loss: 189.3190 - val_loss: 190.5984\n",
      "Epoch 194/500\n",
      "36/36 [==============================] - 0s 3ms/step - loss: 192.0114 - val_loss: 185.0328\n",
      "Epoch 195/500\n",
      "36/36 [==============================] - 0s 3ms/step - loss: 200.7037 - val_loss: 181.6997\n",
      "Epoch 196/500\n",
      "36/36 [==============================] - 0s 3ms/step - loss: 206.3610 - val_loss: 175.0456\n",
      "Epoch 197/500\n",
      "36/36 [==============================] - 0s 3ms/step - loss: 185.0948 - val_loss: 168.7699\n",
      "Epoch 198/500\n",
      "36/36 [==============================] - 0s 3ms/step - loss: 175.3950 - val_loss: 169.1749\n",
      "Epoch 199/500\n",
      "36/36 [==============================] - 0s 3ms/step - loss: 171.3456 - val_loss: 157.1211\n",
      "Epoch 200/500\n",
      "36/36 [==============================] - 0s 3ms/step - loss: 154.1810 - val_loss: 151.9854\n",
      "Epoch 201/500\n",
      "36/36 [==============================] - 0s 3ms/step - loss: 148.5707 - val_loss: 150.6842\n",
      "Epoch 202/500\n",
      "36/36 [==============================] - 0s 3ms/step - loss: 172.7451 - val_loss: 142.2979\n",
      "Epoch 203/500\n",
      "36/36 [==============================] - 0s 3ms/step - loss: 158.1148 - val_loss: 137.8146\n",
      "Epoch 204/500\n",
      "36/36 [==============================] - 0s 3ms/step - loss: 135.5671 - val_loss: 133.6166\n",
      "Epoch 205/500\n",
      "36/36 [==============================] - 0s 3ms/step - loss: 137.0658 - val_loss: 130.1439\n",
      "Epoch 206/500\n",
      "36/36 [==============================] - 0s 3ms/step - loss: 130.2706 - val_loss: 125.9348\n",
      "Epoch 207/500\n",
      "36/36 [==============================] - 0s 3ms/step - loss: 121.0657 - val_loss: 121.3908\n",
      "Epoch 208/500\n",
      "36/36 [==============================] - 0s 3ms/step - loss: 106.2308 - val_loss: 119.6524\n",
      "Epoch 209/500\n",
      "36/36 [==============================] - 0s 3ms/step - loss: 132.9802 - val_loss: 113.7100\n",
      "Epoch 210/500\n",
      "36/36 [==============================] - 0s 3ms/step - loss: 108.4530 - val_loss: 110.4473\n",
      "Epoch 211/500\n",
      "36/36 [==============================] - 0s 3ms/step - loss: 119.8342 - val_loss: 106.6378\n",
      "Epoch 212/500\n",
      "36/36 [==============================] - 0s 3ms/step - loss: 98.0688 - val_loss: 103.1218\n",
      "Epoch 213/500\n",
      "36/36 [==============================] - 0s 3ms/step - loss: 94.1256 - val_loss: 100.1034\n",
      "Epoch 214/500\n",
      "36/36 [==============================] - 0s 3ms/step - loss: 102.4230 - val_loss: 97.0711\n",
      "Epoch 215/500\n",
      "36/36 [==============================] - 0s 3ms/step - loss: 92.1206 - val_loss: 94.1166\n",
      "Epoch 216/500\n",
      "36/36 [==============================] - 0s 3ms/step - loss: 103.0977 - val_loss: 92.9634\n",
      "Epoch 217/500\n",
      "36/36 [==============================] - 0s 3ms/step - loss: 89.8839 - val_loss: 88.1232\n",
      "Epoch 218/500\n",
      "36/36 [==============================] - 0s 3ms/step - loss: 97.4750 - val_loss: 85.2040\n",
      "Epoch 219/500\n",
      "36/36 [==============================] - 0s 3ms/step - loss: 90.1772 - val_loss: 82.6440\n",
      "Epoch 220/500\n",
      "36/36 [==============================] - 0s 3ms/step - loss: 76.1566 - val_loss: 80.5142\n",
      "Epoch 221/500\n",
      "36/36 [==============================] - 0s 3ms/step - loss: 78.7410 - val_loss: 77.8334\n",
      "Epoch 222/500\n",
      "36/36 [==============================] - 0s 3ms/step - loss: 83.9398 - val_loss: 74.4947\n",
      "Epoch 223/500\n",
      "36/36 [==============================] - 0s 3ms/step - loss: 81.5192 - val_loss: 73.6542\n",
      "Epoch 224/500\n",
      "36/36 [==============================] - 0s 3ms/step - loss: 79.9573 - val_loss: 70.9831\n",
      "Epoch 225/500\n",
      "36/36 [==============================] - 0s 3ms/step - loss: 69.9791 - val_loss: 69.1673\n",
      "Epoch 226/500\n",
      "36/36 [==============================] - 0s 3ms/step - loss: 75.8563 - val_loss: 65.9945\n",
      "Epoch 227/500\n",
      "36/36 [==============================] - 0s 3ms/step - loss: 69.7688 - val_loss: 63.6945\n",
      "Epoch 228/500\n",
      "36/36 [==============================] - 0s 3ms/step - loss: 64.0611 - val_loss: 61.6389\n",
      "Epoch 229/500\n",
      "36/36 [==============================] - 0s 3ms/step - loss: 58.9374 - val_loss: 59.7184\n",
      "Epoch 230/500\n",
      "36/36 [==============================] - 0s 4ms/step - loss: 60.6338 - val_loss: 57.8658\n",
      "Epoch 231/500\n",
      "36/36 [==============================] - 0s 3ms/step - loss: 50.1279 - val_loss: 56.9674\n",
      "Epoch 232/500\n",
      "36/36 [==============================] - 0s 3ms/step - loss: 46.6939 - val_loss: 54.5618\n",
      "Epoch 233/500\n"
     ]
    },
    {
     "name": "stdout",
     "output_type": "stream",
     "text": [
      "36/36 [==============================] - 0s 3ms/step - loss: 54.6140 - val_loss: 53.2172\n",
      "Epoch 234/500\n",
      "36/36 [==============================] - 0s 3ms/step - loss: 50.0925 - val_loss: 52.1661\n",
      "Epoch 235/500\n",
      "36/36 [==============================] - 0s 3ms/step - loss: 50.0957 - val_loss: 50.6678\n",
      "Epoch 236/500\n",
      "36/36 [==============================] - 0s 3ms/step - loss: 47.6275 - val_loss: 48.7615\n",
      "Epoch 237/500\n",
      "36/36 [==============================] - 0s 3ms/step - loss: 46.3274 - val_loss: 46.8224\n",
      "Epoch 238/500\n",
      "36/36 [==============================] - 0s 3ms/step - loss: 48.6069 - val_loss: 46.2228\n",
      "Epoch 239/500\n",
      "36/36 [==============================] - 0s 3ms/step - loss: 43.6501 - val_loss: 44.4019\n",
      "Epoch 240/500\n",
      "36/36 [==============================] - 0s 3ms/step - loss: 43.7193 - val_loss: 43.6123\n",
      "Epoch 241/500\n",
      "36/36 [==============================] - 0s 3ms/step - loss: 47.5975 - val_loss: 41.9956\n",
      "Epoch 242/500\n",
      "36/36 [==============================] - 0s 3ms/step - loss: 42.0196 - val_loss: 42.9592\n",
      "Epoch 243/500\n",
      "36/36 [==============================] - 0s 3ms/step - loss: 38.3650 - val_loss: 39.6427\n",
      "Epoch 244/500\n",
      "36/36 [==============================] - 0s 3ms/step - loss: 35.2247 - val_loss: 38.7129\n",
      "Epoch 245/500\n",
      "36/36 [==============================] - 0s 3ms/step - loss: 30.1049 - val_loss: 39.6025\n",
      "Epoch 246/500\n",
      "36/36 [==============================] - 0s 3ms/step - loss: 33.9680 - val_loss: 36.5810\n",
      "Epoch 247/500\n",
      "36/36 [==============================] - 0s 3ms/step - loss: 33.8922 - val_loss: 41.6011\n",
      "Epoch 248/500\n",
      "36/36 [==============================] - 0s 3ms/step - loss: 33.7394 - val_loss: 34.6113\n",
      "Epoch 249/500\n",
      "36/36 [==============================] - 0s 3ms/step - loss: 31.9394 - val_loss: 34.0249\n",
      "Epoch 250/500\n",
      "36/36 [==============================] - 0s 3ms/step - loss: 31.9138 - val_loss: 33.1923\n",
      "Epoch 251/500\n",
      "36/36 [==============================] - 0s 3ms/step - loss: 30.5589 - val_loss: 32.5438\n",
      "Epoch 252/500\n",
      "36/36 [==============================] - 0s 3ms/step - loss: 26.6824 - val_loss: 31.4447\n",
      "Epoch 253/500\n",
      "36/36 [==============================] - 0s 3ms/step - loss: 27.6068 - val_loss: 32.1208\n",
      "Epoch 254/500\n",
      "36/36 [==============================] - 0s 3ms/step - loss: 28.4297 - val_loss: 30.7532\n",
      "Epoch 255/500\n",
      "36/36 [==============================] - 0s 3ms/step - loss: 27.5722 - val_loss: 29.4327\n",
      "Epoch 256/500\n",
      "36/36 [==============================] - 0s 3ms/step - loss: 29.0659 - val_loss: 28.8193\n",
      "Epoch 257/500\n",
      "36/36 [==============================] - 0s 3ms/step - loss: 30.0142 - val_loss: 29.8380\n",
      "Epoch 258/500\n",
      "36/36 [==============================] - 0s 3ms/step - loss: 23.9748 - val_loss: 28.1586\n",
      "Epoch 259/500\n",
      "36/36 [==============================] - 0s 3ms/step - loss: 27.9180 - val_loss: 27.1208\n",
      "Epoch 260/500\n",
      "36/36 [==============================] - 0s 3ms/step - loss: 23.4506 - val_loss: 26.7244\n",
      "Epoch 261/500\n",
      "36/36 [==============================] - 0s 3ms/step - loss: 26.9584 - val_loss: 26.1811\n",
      "Epoch 262/500\n",
      "36/36 [==============================] - 0s 3ms/step - loss: 22.7607 - val_loss: 25.8252\n",
      "Epoch 263/500\n",
      "36/36 [==============================] - 0s 3ms/step - loss: 28.1221 - val_loss: 25.9936\n",
      "Epoch 264/500\n",
      "36/36 [==============================] - 0s 3ms/step - loss: 21.7193 - val_loss: 24.8554\n",
      "Epoch 265/500\n",
      "36/36 [==============================] - 0s 3ms/step - loss: 21.3104 - val_loss: 24.9411\n",
      "Epoch 266/500\n",
      "36/36 [==============================] - 0s 3ms/step - loss: 26.2534 - val_loss: 24.4683\n",
      "Epoch 267/500\n",
      "36/36 [==============================] - 0s 3ms/step - loss: 20.9189 - val_loss: 25.7761\n",
      "Epoch 268/500\n",
      "36/36 [==============================] - 0s 3ms/step - loss: 20.2472 - val_loss: 26.8690\n",
      "Epoch 269/500\n",
      "36/36 [==============================] - 0s 3ms/step - loss: 21.3832 - val_loss: 23.2219\n",
      "Epoch 270/500\n",
      "36/36 [==============================] - 0s 3ms/step - loss: 21.6976 - val_loss: 23.6973\n",
      "Epoch 271/500\n",
      "36/36 [==============================] - 0s 3ms/step - loss: 20.7128 - val_loss: 22.5188\n",
      "Epoch 272/500\n",
      "36/36 [==============================] - 0s 3ms/step - loss: 21.9236 - val_loss: 25.8632\n",
      "Epoch 273/500\n",
      "36/36 [==============================] - 0s 3ms/step - loss: 20.9012 - val_loss: 22.6860\n",
      "Epoch 274/500\n",
      "36/36 [==============================] - 0s 3ms/step - loss: 19.9157 - val_loss: 22.2588\n",
      "Epoch 275/500\n",
      "36/36 [==============================] - 0s 3ms/step - loss: 20.5341 - val_loss: 21.7652\n",
      "Epoch 276/500\n",
      "36/36 [==============================] - 0s 3ms/step - loss: 20.7097 - val_loss: 22.8780\n",
      "Epoch 277/500\n",
      "36/36 [==============================] - 0s 3ms/step - loss: 21.6517 - val_loss: 22.9227\n",
      "Epoch 278/500\n",
      "36/36 [==============================] - 0s 3ms/step - loss: 21.7275 - val_loss: 21.4512\n",
      "Epoch 279/500\n",
      "36/36 [==============================] - 0s 3ms/step - loss: 19.8805 - val_loss: 20.9595\n",
      "Epoch 280/500\n",
      "36/36 [==============================] - 0s 3ms/step - loss: 18.8538 - val_loss: 20.7753\n",
      "Epoch 281/500\n",
      "36/36 [==============================] - 0s 3ms/step - loss: 16.0317 - val_loss: 20.9479\n",
      "Epoch 282/500\n",
      "36/36 [==============================] - 0s 3ms/step - loss: 18.9241 - val_loss: 22.7125\n",
      "Epoch 283/500\n",
      "36/36 [==============================] - 0s 3ms/step - loss: 21.8220 - val_loss: 21.0691\n",
      "Epoch 284/500\n",
      "36/36 [==============================] - 0s 3ms/step - loss: 19.3182 - val_loss: 20.1799\n",
      "Epoch 285/500\n",
      "36/36 [==============================] - 0s 3ms/step - loss: 16.0147 - val_loss: 20.1764\n",
      "Epoch 286/500\n",
      "36/36 [==============================] - 0s 3ms/step - loss: 17.1832 - val_loss: 20.9372\n",
      "Epoch 287/500\n",
      "36/36 [==============================] - 0s 3ms/step - loss: 17.3717 - val_loss: 21.0846\n",
      "Epoch 288/500\n",
      "36/36 [==============================] - 0s 3ms/step - loss: 16.9193 - val_loss: 20.2098\n",
      "Epoch 289/500\n",
      "36/36 [==============================] - 0s 3ms/step - loss: 17.1497 - val_loss: 20.1043\n",
      "Epoch 290/500\n",
      "36/36 [==============================] - 0s 3ms/step - loss: 15.1163 - val_loss: 23.8075\n",
      "Epoch 291/500\n",
      "36/36 [==============================] - 0s 3ms/step - loss: 20.5502 - val_loss: 24.5887\n",
      "Epoch 292/500\n",
      "36/36 [==============================] - 0s 3ms/step - loss: 17.7096 - val_loss: 23.3291\n",
      "Epoch 293/500\n",
      "36/36 [==============================] - 0s 3ms/step - loss: 17.4007 - val_loss: 19.6516\n",
      "Epoch 294/500\n",
      "36/36 [==============================] - 0s 3ms/step - loss: 16.3259 - val_loss: 20.1453\n",
      "Epoch 295/500\n",
      "36/36 [==============================] - 0s 3ms/step - loss: 15.8010 - val_loss: 19.8554\n",
      "Epoch 296/500\n",
      "36/36 [==============================] - 0s 3ms/step - loss: 17.0444 - val_loss: 20.4643\n",
      "Epoch 297/500\n",
      "36/36 [==============================] - 0s 3ms/step - loss: 17.8105 - val_loss: 20.4944\n",
      "Epoch 298/500\n",
      "36/36 [==============================] - 0s 3ms/step - loss: 16.1947 - val_loss: 19.3538\n",
      "Epoch 299/500\n",
      "36/36 [==============================] - 0s 3ms/step - loss: 18.5467 - val_loss: 19.4081\n",
      "Epoch 300/500\n",
      "36/36 [==============================] - 0s 3ms/step - loss: 16.3568 - val_loss: 20.7617\n",
      "Epoch 301/500\n",
      "36/36 [==============================] - 0s 3ms/step - loss: 17.3363 - val_loss: 19.4811\n",
      "Epoch 302/500\n",
      "36/36 [==============================] - 0s 3ms/step - loss: 16.5067 - val_loss: 19.3862\n",
      "Epoch 303/500\n",
      "36/36 [==============================] - 0s 3ms/step - loss: 17.8021 - val_loss: 19.8332\n",
      "Epoch 304/500\n",
      "36/36 [==============================] - 0s 3ms/step - loss: 17.9341 - val_loss: 19.5367\n",
      "Epoch 305/500\n",
      "36/36 [==============================] - 0s 3ms/step - loss: 17.2014 - val_loss: 19.7738\n",
      "Epoch 306/500\n",
      "36/36 [==============================] - 0s 3ms/step - loss: 16.6983 - val_loss: 19.3519\n",
      "Epoch 307/500\n",
      "36/36 [==============================] - 0s 3ms/step - loss: 17.4263 - val_loss: 19.3730\n",
      "Epoch 308/500\n",
      "36/36 [==============================] - 0s 3ms/step - loss: 14.9766 - val_loss: 19.0281\n",
      "Epoch 309/500\n",
      "36/36 [==============================] - 0s 3ms/step - loss: 17.5450 - val_loss: 22.1261\n",
      "Epoch 310/500\n",
      "36/36 [==============================] - 0s 3ms/step - loss: 17.9292 - val_loss: 19.0598\n",
      "Epoch 311/500\n",
      "36/36 [==============================] - 0s 3ms/step - loss: 16.9948 - val_loss: 19.9101\n",
      "Epoch 312/500\n"
     ]
    },
    {
     "name": "stdout",
     "output_type": "stream",
     "text": [
      "36/36 [==============================] - 0s 3ms/step - loss: 16.8111 - val_loss: 19.6024\n",
      "Epoch 313/500\n",
      "36/36 [==============================] - 0s 3ms/step - loss: 16.3812 - val_loss: 19.0152\n",
      "Epoch 314/500\n",
      "36/36 [==============================] - 0s 3ms/step - loss: 15.9095 - val_loss: 20.7176\n",
      "Epoch 315/500\n",
      "36/36 [==============================] - 0s 3ms/step - loss: 18.8857 - val_loss: 18.9799\n",
      "Epoch 316/500\n",
      "36/36 [==============================] - 0s 3ms/step - loss: 16.2881 - val_loss: 19.5281\n",
      "Epoch 317/500\n",
      "36/36 [==============================] - 0s 3ms/step - loss: 18.2731 - val_loss: 19.3265\n",
      "Epoch 318/500\n",
      "36/36 [==============================] - 0s 3ms/step - loss: 17.7313 - val_loss: 21.8485\n",
      "Epoch 319/500\n",
      "36/36 [==============================] - 0s 3ms/step - loss: 20.9560 - val_loss: 19.3283\n",
      "Epoch 320/500\n",
      "36/36 [==============================] - 0s 3ms/step - loss: 16.6787 - val_loss: 21.0020\n",
      "Epoch 321/500\n",
      "36/36 [==============================] - 0s 3ms/step - loss: 18.5039 - val_loss: 19.2066\n",
      "Epoch 322/500\n",
      "36/36 [==============================] - 0s 3ms/step - loss: 14.7603 - val_loss: 19.7333\n",
      "Epoch 323/500\n",
      "36/36 [==============================] - 0s 3ms/step - loss: 16.7461 - val_loss: 19.2600\n",
      "Epoch 324/500\n",
      "36/36 [==============================] - 0s 3ms/step - loss: 16.9998 - val_loss: 19.5520\n",
      "Epoch 325/500\n",
      "36/36 [==============================] - 0s 3ms/step - loss: 16.5661 - val_loss: 19.0415\n",
      "Epoch 326/500\n",
      "36/36 [==============================] - 0s 3ms/step - loss: 16.5657 - val_loss: 19.4909\n",
      "Epoch 327/500\n",
      "36/36 [==============================] - 0s 3ms/step - loss: 17.3831 - val_loss: 19.2241\n",
      "Epoch 328/500\n",
      "36/36 [==============================] - 0s 3ms/step - loss: 15.2306 - val_loss: 19.1593\n",
      "Epoch 329/500\n",
      "36/36 [==============================] - 0s 3ms/step - loss: 15.8491 - val_loss: 20.0548\n",
      "Epoch 330/500\n",
      "36/36 [==============================] - 0s 3ms/step - loss: 18.2796 - val_loss: 19.7872\n",
      "Epoch 331/500\n",
      "36/36 [==============================] - 0s 3ms/step - loss: 19.7942 - val_loss: 19.4187\n",
      "Epoch 332/500\n",
      "36/36 [==============================] - 0s 3ms/step - loss: 16.1993 - val_loss: 18.9396\n",
      "Epoch 333/500\n",
      "36/36 [==============================] - 0s 3ms/step - loss: 17.1685 - val_loss: 19.1390\n",
      "Epoch 334/500\n",
      "36/36 [==============================] - 0s 3ms/step - loss: 20.7331 - val_loss: 19.0536\n",
      "Epoch 335/500\n",
      "36/36 [==============================] - 0s 3ms/step - loss: 17.4635 - val_loss: 19.5780\n",
      "Epoch 336/500\n",
      "36/36 [==============================] - 0s 3ms/step - loss: 16.4208 - val_loss: 19.0323\n",
      "Epoch 337/500\n",
      "36/36 [==============================] - 0s 3ms/step - loss: 14.9222 - val_loss: 19.2858\n",
      "Epoch 338/500\n",
      "36/36 [==============================] - 0s 3ms/step - loss: 15.2242 - val_loss: 19.2505\n",
      "Epoch 339/500\n",
      "36/36 [==============================] - 0s 3ms/step - loss: 19.3253 - val_loss: 19.5062\n",
      "Epoch 340/500\n",
      "36/36 [==============================] - 0s 3ms/step - loss: 15.1491 - val_loss: 18.7880\n",
      "Epoch 341/500\n",
      "36/36 [==============================] - 0s 3ms/step - loss: 17.5396 - val_loss: 19.4078\n",
      "Epoch 342/500\n",
      "36/36 [==============================] - 0s 3ms/step - loss: 14.3096 - val_loss: 18.9240\n",
      "Epoch 343/500\n",
      "36/36 [==============================] - 0s 3ms/step - loss: 17.2222 - val_loss: 21.2006\n",
      "Epoch 344/500\n",
      "36/36 [==============================] - 0s 3ms/step - loss: 18.4182 - val_loss: 19.2579\n",
      "Epoch 345/500\n",
      "36/36 [==============================] - 0s 3ms/step - loss: 16.7010 - val_loss: 18.9234\n",
      "Epoch 346/500\n",
      "36/36 [==============================] - 0s 3ms/step - loss: 16.6999 - val_loss: 19.7801\n",
      "Epoch 347/500\n",
      "36/36 [==============================] - 0s 3ms/step - loss: 16.4145 - val_loss: 18.7996\n",
      "Epoch 348/500\n",
      "36/36 [==============================] - 0s 3ms/step - loss: 15.7431 - val_loss: 21.4705\n",
      "Epoch 349/500\n",
      "36/36 [==============================] - 0s 3ms/step - loss: 16.7274 - val_loss: 19.2949\n",
      "Epoch 350/500\n",
      "36/36 [==============================] - 0s 3ms/step - loss: 17.9494 - val_loss: 18.8914\n",
      "Epoch 351/500\n",
      "36/36 [==============================] - 0s 3ms/step - loss: 19.0970 - val_loss: 19.3639\n",
      "Epoch 352/500\n",
      "36/36 [==============================] - 0s 3ms/step - loss: 15.9963 - val_loss: 20.5340\n",
      "Epoch 353/500\n",
      "36/36 [==============================] - 0s 3ms/step - loss: 16.9299 - val_loss: 20.5899\n",
      "Epoch 354/500\n",
      "36/36 [==============================] - 0s 3ms/step - loss: 17.3402 - val_loss: 18.9902\n",
      "Epoch 355/500\n",
      "36/36 [==============================] - 0s 3ms/step - loss: 16.3362 - val_loss: 19.1977\n",
      "Epoch 356/500\n",
      "36/36 [==============================] - 0s 3ms/step - loss: 18.4446 - val_loss: 18.8642\n",
      "Epoch 357/500\n",
      "36/36 [==============================] - 0s 3ms/step - loss: 18.2896 - val_loss: 19.7901\n",
      "Epoch 358/500\n",
      "36/36 [==============================] - 0s 3ms/step - loss: 16.0674 - val_loss: 18.9336\n",
      "Epoch 359/500\n",
      "36/36 [==============================] - 0s 3ms/step - loss: 15.7245 - val_loss: 19.0173\n",
      "Epoch 360/500\n",
      "36/36 [==============================] - 0s 3ms/step - loss: 14.7866 - val_loss: 18.9726\n",
      "Epoch 361/500\n",
      "36/36 [==============================] - 0s 3ms/step - loss: 15.4986 - val_loss: 19.7250\n",
      "Epoch 362/500\n",
      "36/36 [==============================] - 0s 3ms/step - loss: 16.3581 - val_loss: 19.3058\n",
      "Epoch 363/500\n",
      "36/36 [==============================] - 0s 3ms/step - loss: 18.3099 - val_loss: 19.1340\n",
      "Epoch 364/500\n",
      "36/36 [==============================] - 0s 3ms/step - loss: 14.6948 - val_loss: 18.8939\n",
      "Epoch 365/500\n",
      "36/36 [==============================] - 0s 3ms/step - loss: 14.9065 - val_loss: 19.0420\n",
      "Epoch 366/500\n",
      "36/36 [==============================] - 0s 3ms/step - loss: 15.8344 - val_loss: 22.2996\n",
      "Epoch 367/500\n",
      "36/36 [==============================] - 0s 3ms/step - loss: 18.3118 - val_loss: 18.9836\n",
      "Epoch 368/500\n",
      "36/36 [==============================] - 0s 3ms/step - loss: 18.0319 - val_loss: 20.9791\n",
      "Epoch 369/500\n",
      "36/36 [==============================] - 0s 3ms/step - loss: 17.0291 - val_loss: 19.9428\n",
      "Epoch 370/500\n",
      "36/36 [==============================] - 0s 3ms/step - loss: 16.4981 - val_loss: 19.0860\n",
      "Epoch 371/500\n",
      "36/36 [==============================] - 0s 3ms/step - loss: 15.7592 - val_loss: 19.4040\n",
      "Epoch 372/500\n",
      "36/36 [==============================] - 0s 3ms/step - loss: 15.6538 - val_loss: 19.1163\n",
      "Epoch 373/500\n",
      "36/36 [==============================] - 0s 3ms/step - loss: 16.7061 - val_loss: 19.0329\n",
      "Epoch 374/500\n",
      "36/36 [==============================] - 0s 3ms/step - loss: 17.0188 - val_loss: 22.1882\n",
      "Epoch 375/500\n",
      "36/36 [==============================] - 0s 3ms/step - loss: 18.5504 - val_loss: 19.2076\n",
      "Epoch 376/500\n",
      "36/36 [==============================] - 0s 3ms/step - loss: 15.9334 - val_loss: 19.0926\n",
      "Epoch 377/500\n",
      "36/36 [==============================] - 0s 3ms/step - loss: 15.3546 - val_loss: 19.8109\n",
      "Epoch 378/500\n",
      "36/36 [==============================] - 0s 3ms/step - loss: 15.6247 - val_loss: 21.4837\n",
      "Epoch 379/500\n",
      "36/36 [==============================] - 0s 3ms/step - loss: 18.4907 - val_loss: 21.2209\n",
      "Epoch 380/500\n",
      "36/36 [==============================] - 0s 3ms/step - loss: 15.8596 - val_loss: 19.5411\n",
      "Epoch 381/500\n",
      "36/36 [==============================] - 0s 3ms/step - loss: 17.7578 - val_loss: 18.8813\n",
      "Epoch 382/500\n",
      "36/36 [==============================] - 0s 3ms/step - loss: 15.7650 - val_loss: 19.5699\n",
      "Epoch 383/500\n",
      "36/36 [==============================] - 0s 3ms/step - loss: 14.8548 - val_loss: 19.5972\n",
      "Epoch 384/500\n",
      "36/36 [==============================] - 0s 3ms/step - loss: 18.0793 - val_loss: 18.9641\n",
      "Epoch 385/500\n",
      "36/36 [==============================] - 0s 3ms/step - loss: 17.8097 - val_loss: 21.2757\n",
      "Epoch 386/500\n",
      "36/36 [==============================] - 0s 3ms/step - loss: 16.4886 - val_loss: 19.1130\n",
      "Epoch 387/500\n",
      "36/36 [==============================] - 0s 3ms/step - loss: 16.6342 - val_loss: 19.0245\n",
      "Epoch 388/500\n",
      "36/36 [==============================] - 0s 3ms/step - loss: 14.8856 - val_loss: 19.6684\n",
      "Epoch 389/500\n",
      "36/36 [==============================] - 0s 3ms/step - loss: 15.5451 - val_loss: 18.7739\n",
      "Epoch 390/500\n",
      "36/36 [==============================] - 0s 3ms/step - loss: 16.1199 - val_loss: 19.4401\n",
      "Epoch 391/500\n"
     ]
    },
    {
     "name": "stdout",
     "output_type": "stream",
     "text": [
      "36/36 [==============================] - 0s 3ms/step - loss: 17.1458 - val_loss: 22.2167\n",
      "Epoch 392/500\n",
      "36/36 [==============================] - 0s 3ms/step - loss: 15.0570 - val_loss: 19.6113\n",
      "Epoch 393/500\n",
      "36/36 [==============================] - 0s 3ms/step - loss: 17.3226 - val_loss: 18.8058\n",
      "Epoch 394/500\n",
      "36/36 [==============================] - 0s 3ms/step - loss: 12.6314 - val_loss: 18.9120\n",
      "Epoch 395/500\n",
      "36/36 [==============================] - 0s 3ms/step - loss: 15.0598 - val_loss: 21.3406\n",
      "Epoch 396/500\n",
      "36/36 [==============================] - 0s 3ms/step - loss: 16.8322 - val_loss: 18.8780\n",
      "Epoch 397/500\n",
      "36/36 [==============================] - 0s 3ms/step - loss: 19.7904 - val_loss: 20.7844\n",
      "Epoch 398/500\n",
      "36/36 [==============================] - 0s 3ms/step - loss: 17.1053 - val_loss: 22.2850\n",
      "Epoch 399/500\n",
      "36/36 [==============================] - 0s 3ms/step - loss: 17.1027 - val_loss: 19.0522\n",
      "Epoch 400/500\n",
      "36/36 [==============================] - 0s 3ms/step - loss: 15.1758 - val_loss: 20.6203\n",
      "Epoch 401/500\n",
      "36/36 [==============================] - 0s 3ms/step - loss: 17.7757 - val_loss: 18.9370\n",
      "Epoch 402/500\n",
      "36/36 [==============================] - 0s 3ms/step - loss: 17.5479 - val_loss: 21.1776\n",
      "Epoch 403/500\n",
      "36/36 [==============================] - 0s 3ms/step - loss: 16.5751 - val_loss: 18.8877\n",
      "Epoch 404/500\n",
      "36/36 [==============================] - 0s 3ms/step - loss: 16.6769 - val_loss: 22.5400\n",
      "Epoch 405/500\n",
      "36/36 [==============================] - 0s 3ms/step - loss: 17.8469 - val_loss: 19.9436\n",
      "Epoch 406/500\n",
      "36/36 [==============================] - 0s 3ms/step - loss: 20.2353 - val_loss: 20.5449\n",
      "Epoch 407/500\n",
      "36/36 [==============================] - 0s 3ms/step - loss: 17.0627 - val_loss: 18.8334\n",
      "Epoch 408/500\n",
      "36/36 [==============================] - 0s 3ms/step - loss: 14.9316 - val_loss: 19.4733\n",
      "Epoch 409/500\n",
      "36/36 [==============================] - 0s 3ms/step - loss: 16.3163 - val_loss: 19.0217\n",
      "Epoch 410/500\n",
      "36/36 [==============================] - 0s 3ms/step - loss: 17.9066 - val_loss: 19.1999\n",
      "Epoch 411/500\n",
      "36/36 [==============================] - 0s 3ms/step - loss: 15.4700 - val_loss: 19.0631\n",
      "Epoch 412/500\n",
      "36/36 [==============================] - 0s 3ms/step - loss: 19.7401 - val_loss: 18.8388\n",
      "Epoch 413/500\n",
      "36/36 [==============================] - 0s 3ms/step - loss: 17.7614 - val_loss: 21.3964\n",
      "Epoch 414/500\n",
      "36/36 [==============================] - 0s 3ms/step - loss: 15.8062 - val_loss: 18.8236\n",
      "Epoch 415/500\n",
      "36/36 [==============================] - 0s 3ms/step - loss: 17.1592 - val_loss: 18.9049\n",
      "Epoch 416/500\n",
      "36/36 [==============================] - 0s 3ms/step - loss: 16.5792 - val_loss: 19.0181\n",
      "Epoch 417/500\n",
      "36/36 [==============================] - 0s 3ms/step - loss: 16.5134 - val_loss: 19.3347\n",
      "Epoch 418/500\n",
      "36/36 [==============================] - 0s 3ms/step - loss: 16.5235 - val_loss: 18.7271\n",
      "Epoch 419/500\n",
      "36/36 [==============================] - 0s 3ms/step - loss: 17.8441 - val_loss: 20.3206\n",
      "Epoch 420/500\n",
      "36/36 [==============================] - 0s 3ms/step - loss: 14.5687 - val_loss: 19.0587\n",
      "Epoch 421/500\n",
      "36/36 [==============================] - 0s 3ms/step - loss: 16.2097 - val_loss: 19.3168\n",
      "Epoch 422/500\n",
      "36/36 [==============================] - 0s 3ms/step - loss: 16.4795 - val_loss: 23.9190\n",
      "Epoch 423/500\n",
      "36/36 [==============================] - 0s 3ms/step - loss: 19.5923 - val_loss: 20.1023\n",
      "Epoch 424/500\n",
      "36/36 [==============================] - 0s 3ms/step - loss: 19.4744 - val_loss: 19.1608\n",
      "Epoch 425/500\n",
      "36/36 [==============================] - 0s 3ms/step - loss: 17.0674 - val_loss: 19.7764\n",
      "Epoch 426/500\n",
      "36/36 [==============================] - 0s 3ms/step - loss: 16.6219 - val_loss: 18.8776\n",
      "Epoch 427/500\n",
      "36/36 [==============================] - 0s 3ms/step - loss: 17.4453 - val_loss: 18.8384\n",
      "Epoch 428/500\n",
      "36/36 [==============================] - 0s 3ms/step - loss: 16.2191 - val_loss: 19.7076\n",
      "Epoch 429/500\n",
      "36/36 [==============================] - 0s 3ms/step - loss: 13.4150 - val_loss: 19.0175\n",
      "Epoch 430/500\n",
      "36/36 [==============================] - 0s 3ms/step - loss: 18.9972 - val_loss: 18.8360\n",
      "Epoch 431/500\n",
      "36/36 [==============================] - 0s 3ms/step - loss: 17.7872 - val_loss: 19.0025\n",
      "Epoch 432/500\n",
      "36/36 [==============================] - 0s 3ms/step - loss: 16.4097 - val_loss: 18.8513\n",
      "Epoch 433/500\n",
      "36/36 [==============================] - 0s 3ms/step - loss: 18.4825 - val_loss: 18.9009\n",
      "Epoch 434/500\n",
      "36/36 [==============================] - 0s 3ms/step - loss: 16.1528 - val_loss: 18.9621\n",
      "Epoch 435/500\n",
      "36/36 [==============================] - 0s 3ms/step - loss: 17.7785 - val_loss: 19.3296\n",
      "Epoch 436/500\n",
      "36/36 [==============================] - 0s 3ms/step - loss: 15.3818 - val_loss: 18.8496\n",
      "Epoch 437/500\n",
      "36/36 [==============================] - 0s 3ms/step - loss: 15.7573 - val_loss: 18.7673\n",
      "Epoch 438/500\n",
      "36/36 [==============================] - 0s 3ms/step - loss: 14.5135 - val_loss: 19.2282\n",
      "Epoch 439/500\n",
      "36/36 [==============================] - 0s 3ms/step - loss: 17.5412 - val_loss: 19.1460\n",
      "Epoch 440/500\n",
      "36/36 [==============================] - 0s 3ms/step - loss: 17.1351 - val_loss: 18.8383\n",
      "Epoch 441/500\n",
      "36/36 [==============================] - 0s 3ms/step - loss: 16.6522 - val_loss: 25.1048\n",
      "Epoch 442/500\n",
      "36/36 [==============================] - 0s 3ms/step - loss: 18.4965 - val_loss: 18.8215\n",
      "Epoch 443/500\n",
      "36/36 [==============================] - 0s 3ms/step - loss: 15.9209 - val_loss: 18.7034\n",
      "Epoch 444/500\n",
      "36/36 [==============================] - 0s 3ms/step - loss: 18.0924 - val_loss: 20.3423\n",
      "Epoch 445/500\n",
      "36/36 [==============================] - 0s 3ms/step - loss: 18.7298 - val_loss: 20.9409\n",
      "Epoch 446/500\n",
      "36/36 [==============================] - 0s 3ms/step - loss: 16.6577 - val_loss: 19.2316\n",
      "Epoch 447/500\n",
      "36/36 [==============================] - 0s 3ms/step - loss: 16.1677 - val_loss: 19.2272\n",
      "Epoch 448/500\n",
      "36/36 [==============================] - 0s 3ms/step - loss: 16.1364 - val_loss: 19.3627\n",
      "Epoch 449/500\n",
      "36/36 [==============================] - 0s 3ms/step - loss: 16.3874 - val_loss: 19.1480\n",
      "Epoch 450/500\n",
      "36/36 [==============================] - 0s 3ms/step - loss: 17.0651 - val_loss: 18.7100\n",
      "Epoch 451/500\n",
      "36/36 [==============================] - 0s 3ms/step - loss: 16.6063 - val_loss: 18.6882\n",
      "Epoch 452/500\n",
      "36/36 [==============================] - 0s 3ms/step - loss: 15.2038 - val_loss: 20.2725\n",
      "Epoch 453/500\n",
      "36/36 [==============================] - 0s 4ms/step - loss: 15.6022 - val_loss: 18.8427\n",
      "Epoch 454/500\n",
      "36/36 [==============================] - 0s 3ms/step - loss: 15.5999 - val_loss: 19.4273\n",
      "Epoch 455/500\n",
      "36/36 [==============================] - 0s 3ms/step - loss: 15.7818 - val_loss: 19.0484\n",
      "Epoch 456/500\n",
      "36/36 [==============================] - 0s 3ms/step - loss: 15.8507 - val_loss: 22.0750\n",
      "Epoch 457/500\n",
      "36/36 [==============================] - 0s 3ms/step - loss: 18.2596 - val_loss: 19.5720\n",
      "Epoch 458/500\n",
      "36/36 [==============================] - 0s 3ms/step - loss: 15.8769 - val_loss: 20.5496\n",
      "Epoch 459/500\n",
      "36/36 [==============================] - 0s 3ms/step - loss: 15.8388 - val_loss: 18.7378\n",
      "Epoch 460/500\n",
      "36/36 [==============================] - 0s 3ms/step - loss: 16.7551 - val_loss: 20.0087\n",
      "Epoch 461/500\n",
      "36/36 [==============================] - 0s 3ms/step - loss: 17.2365 - val_loss: 18.7649\n",
      "Epoch 462/500\n",
      "36/36 [==============================] - 0s 3ms/step - loss: 15.2737 - val_loss: 19.1332\n",
      "Epoch 463/500\n",
      "36/36 [==============================] - 0s 3ms/step - loss: 17.4072 - val_loss: 25.4296\n",
      "Epoch 464/500\n",
      "36/36 [==============================] - 0s 3ms/step - loss: 19.7059 - val_loss: 20.5136\n",
      "Epoch 465/500\n",
      "36/36 [==============================] - 0s 3ms/step - loss: 19.4882 - val_loss: 19.4073\n",
      "Epoch 466/500\n",
      "36/36 [==============================] - 0s 3ms/step - loss: 17.4098 - val_loss: 18.7793\n",
      "Epoch 467/500\n",
      "36/36 [==============================] - 0s 3ms/step - loss: 18.6339 - val_loss: 18.8421\n",
      "Epoch 468/500\n",
      "36/36 [==============================] - 0s 3ms/step - loss: 15.5703 - val_loss: 18.7061\n",
      "Epoch 469/500\n",
      "36/36 [==============================] - 0s 3ms/step - loss: 14.9630 - val_loss: 21.8883\n",
      "Epoch 470/500\n"
     ]
    },
    {
     "name": "stdout",
     "output_type": "stream",
     "text": [
      "36/36 [==============================] - 0s 3ms/step - loss: 18.6938 - val_loss: 18.9442\n",
      "Epoch 471/500\n",
      "36/36 [==============================] - 0s 3ms/step - loss: 18.0565 - val_loss: 23.2962\n",
      "Epoch 472/500\n",
      "36/36 [==============================] - 0s 3ms/step - loss: 20.0861 - val_loss: 21.4058\n",
      "Epoch 473/500\n",
      "36/36 [==============================] - 0s 3ms/step - loss: 16.7206 - val_loss: 18.8652\n",
      "Epoch 474/500\n",
      "36/36 [==============================] - 0s 3ms/step - loss: 15.8787 - val_loss: 19.1735\n",
      "Epoch 475/500\n",
      "36/36 [==============================] - 0s 3ms/step - loss: 17.6884 - val_loss: 18.9108\n",
      "Epoch 476/500\n",
      "36/36 [==============================] - 0s 3ms/step - loss: 18.4768 - val_loss: 20.5560\n",
      "Epoch 477/500\n",
      "36/36 [==============================] - 0s 3ms/step - loss: 15.8323 - val_loss: 18.7634\n",
      "Epoch 478/500\n",
      "36/36 [==============================] - 0s 3ms/step - loss: 17.5729 - val_loss: 22.0576\n",
      "Epoch 479/500\n",
      "36/36 [==============================] - 0s 3ms/step - loss: 16.2790 - val_loss: 18.7380\n",
      "Epoch 480/500\n",
      "36/36 [==============================] - 0s 3ms/step - loss: 16.0832 - val_loss: 18.8274\n",
      "Epoch 481/500\n",
      "36/36 [==============================] - 0s 3ms/step - loss: 18.2378 - val_loss: 19.7198\n",
      "Epoch 482/500\n",
      "36/36 [==============================] - 0s 3ms/step - loss: 15.6962 - val_loss: 18.7910\n",
      "Epoch 483/500\n",
      "36/36 [==============================] - 0s 3ms/step - loss: 15.3432 - val_loss: 18.8978\n",
      "Epoch 484/500\n",
      "36/36 [==============================] - 0s 3ms/step - loss: 17.4584 - val_loss: 20.5087\n",
      "Epoch 485/500\n",
      "36/36 [==============================] - 0s 3ms/step - loss: 15.6545 - val_loss: 18.9332\n",
      "Epoch 486/500\n",
      "36/36 [==============================] - 0s 3ms/step - loss: 14.8689 - val_loss: 18.9304\n",
      "Epoch 487/500\n",
      "36/36 [==============================] - 0s 3ms/step - loss: 17.4663 - val_loss: 20.2583\n",
      "Epoch 488/500\n",
      "36/36 [==============================] - 0s 3ms/step - loss: 16.2369 - val_loss: 19.4454\n",
      "Epoch 489/500\n",
      "36/36 [==============================] - 0s 3ms/step - loss: 16.7377 - val_loss: 18.8456\n",
      "Epoch 490/500\n",
      "36/36 [==============================] - 0s 3ms/step - loss: 16.3972 - val_loss: 21.8942\n",
      "Epoch 491/500\n",
      "36/36 [==============================] - 0s 3ms/step - loss: 15.7237 - val_loss: 18.8807\n",
      "Epoch 492/500\n",
      "36/36 [==============================] - 0s 3ms/step - loss: 14.3597 - val_loss: 18.7767\n",
      "Epoch 493/500\n",
      "36/36 [==============================] - 0s 3ms/step - loss: 17.7339 - val_loss: 19.0760\n",
      "Epoch 494/500\n",
      "36/36 [==============================] - 0s 3ms/step - loss: 17.6040 - val_loss: 19.4871\n",
      "Epoch 495/500\n",
      "36/36 [==============================] - 0s 3ms/step - loss: 17.2978 - val_loss: 18.9515\n",
      "Epoch 496/500\n",
      "36/36 [==============================] - 0s 3ms/step - loss: 16.2973 - val_loss: 19.8074\n",
      "Epoch 497/500\n",
      "36/36 [==============================] - 0s 3ms/step - loss: 15.8308 - val_loss: 18.7100\n",
      "Epoch 498/500\n",
      "36/36 [==============================] - 0s 3ms/step - loss: 14.7064 - val_loss: 19.3052\n",
      "Epoch 499/500\n",
      "36/36 [==============================] - 0s 3ms/step - loss: 15.7708 - val_loss: 18.7077\n",
      "Epoch 500/500\n",
      "36/36 [==============================] - 0s 3ms/step - loss: 17.7642 - val_loss: 18.8207\n"
     ]
    },
    {
     "data": {
      "text/plain": [
       "<tensorflow.python.keras.callbacks.History at 0x1e848e5afd0>"
      ]
     },
     "execution_count": 31,
     "metadata": {},
     "output_type": "execute_result"
    }
   ],
   "source": [
    "\n",
    "# fit the keras model on the dataset\n",
    "model.fit(X_train, y_train, epochs=500, batch_size=10,validation_data=(X_test, y_test))\n"
   ]
  },
  {
   "cell_type": "code",
   "execution_count": 32,
   "metadata": {},
   "outputs": [
    {
     "data": {
      "image/png": "[encoded data removed]",
      "text/plain": [
       "<Figure size 432x288 with 1 Axes>"
      ]
     },
     "metadata": {
      "needs_background": "light"
     },
     "output_type": "display_data"
    }
   ],
   "source": [
    "# Look at prediction for the test data\n",
    "plt.plot(X_test, y_test, 'gx', label=\"test data\")\n",
    "plt.plot(X_test, model.predict(X_test), 'r.', label=\"neural network prediction\")\n",
    "plt.xlabel('Wind Speed')\n",
    "plt.ylabel('power (kW)')\n",
    "plt.title(\"Neural network Model \")\n",
    "plt.grid()\n",
    "plt.legend()\n",
    "plt.show()"
   ]
  },
  {
   "cell_type": "markdown",
   "metadata": {},
   "source": [
    "5. Evaluate Keras Model\n",
    "We have trained our neural network on the entire dataset and we can evaluate the performance of the network on the same dataset.\n",
    "\n",
    "This will only give us an idea of how well we have modeled the dataset (e.g. train accuracy), but no idea of how well the algorithm might perform on new data. We have done this for simplicity, but ideally, you could separate your data into train and test datasets for training and evaluation of your model.\n",
    "\n",
    "You can evaluate your model on your training dataset using the evaluate() function on your model and pass it the same input and output used to train the model.\n",
    "\n",
    "This will generate a prediction for each input and output pair and collect scores, including the average loss and any metrics you have configured, such as accuracy.\n",
    "\n",
    "The evaluate() function will return a list with two values. The first will be the loss of the model on the dataset and the second will be the accuracy of the model on the dataset. We are only interested in reporting the accuracy, so we will ignore the loss value.\n",
    "\n"
   ]
  },
  {
   "cell_type": "code",
   "execution_count": 33,
   "metadata": {},
   "outputs": [
    {
     "name": "stdout",
     "output_type": "stream",
     "text": [
      "3/3 [==============================] - 0s 3ms/step - loss: 18.8207\n",
      "loss: 18.82\n"
     ]
    }
   ],
   "source": [
    "...\n",
    "# evaluate the keras model\n",
    "loss= model.evaluate(X_test, y_test)\n",
    "print('loss: %.2f' % (loss))"
   ]
  },
  {
   "cell_type": "code",
   "execution_count": 34,
   "metadata": {},
   "outputs": [
    {
     "data": {
      "text/html": [
       "<div>\n",
       "<style scoped>\n",
       "    .dataframe tbody tr th:only-of-type {\n",
       "        vertical-align: middle;\n",
       "    }\n",
       "\n",
       "    .dataframe tbody tr th {\n",
       "        vertical-align: top;\n",
       "    }\n",
       "\n",
       "    .dataframe thead th {\n",
       "        text-align: right;\n",
       "    }\n",
       "</style>\n",
       "<table border=\"1\" class=\"dataframe\">\n",
       "  <thead>\n",
       "    <tr style=\"text-align: right;\">\n",
       "      <th></th>\n",
       "      <th>speed</th>\n",
       "      <th>predicted power</th>\n",
       "      <th>actual value</th>\n",
       "    </tr>\n",
       "  </thead>\n",
       "  <tbody>\n",
       "    <tr>\n",
       "      <th>125</th>\n",
       "      <td>6.356</td>\n",
       "      <td>5.458413</td>\n",
       "      <td>5.842</td>\n",
       "    </tr>\n",
       "    <tr>\n",
       "      <th>258</th>\n",
       "      <td>12.888</td>\n",
       "      <td>54.196472</td>\n",
       "      <td>53.954</td>\n",
       "    </tr>\n",
       "    <tr>\n",
       "      <th>56</th>\n",
       "      <td>3.003</td>\n",
       "      <td>3.643669</td>\n",
       "      <td>3.578</td>\n",
       "    </tr>\n",
       "    <tr>\n",
       "      <th>411</th>\n",
       "      <td>20.320</td>\n",
       "      <td>98.641129</td>\n",
       "      <td>100.699</td>\n",
       "    </tr>\n",
       "    <tr>\n",
       "      <th>339</th>\n",
       "      <td>17.142</td>\n",
       "      <td>92.494644</td>\n",
       "      <td>95.622</td>\n",
       "    </tr>\n",
       "    <tr>\n",
       "      <th>...</th>\n",
       "      <td>...</td>\n",
       "      <td>...</td>\n",
       "      <td>...</td>\n",
       "    </tr>\n",
       "    <tr>\n",
       "      <th>434</th>\n",
       "      <td>21.847</td>\n",
       "      <td>99.298149</td>\n",
       "      <td>103.922</td>\n",
       "    </tr>\n",
       "    <tr>\n",
       "      <th>88</th>\n",
       "      <td>4.780</td>\n",
       "      <td>4.209001</td>\n",
       "      <td>10.444</td>\n",
       "    </tr>\n",
       "    <tr>\n",
       "      <th>387</th>\n",
       "      <td>19.444</td>\n",
       "      <td>97.825691</td>\n",
       "      <td>100.372</td>\n",
       "    </tr>\n",
       "    <tr>\n",
       "      <th>439</th>\n",
       "      <td>22.222</td>\n",
       "      <td>99.378845</td>\n",
       "      <td>96.650</td>\n",
       "    </tr>\n",
       "    <tr>\n",
       "      <th>301</th>\n",
       "      <td>15.315</td>\n",
       "      <td>80.061234</td>\n",
       "      <td>87.230</td>\n",
       "    </tr>\n",
       "  </tbody>\n",
       "</table>\n",
       "<p>91 rows × 3 columns</p>\n",
       "</div>"
      ],
      "text/plain": [
       "      speed  predicted power  actual value\n",
       "125   6.356         5.458413         5.842\n",
       "258  12.888        54.196472        53.954\n",
       "56    3.003         3.643669         3.578\n",
       "411  20.320        98.641129       100.699\n",
       "339  17.142        92.494644        95.622\n",
       "..      ...              ...           ...\n",
       "434  21.847        99.298149       103.922\n",
       "88    4.780         4.209001        10.444\n",
       "387  19.444        97.825691       100.372\n",
       "439  22.222        99.378845        96.650\n",
       "301  15.315        80.061234        87.230\n",
       "\n",
       "[91 rows x 3 columns]"
      ]
     },
     "execution_count": 34,
     "metadata": {},
     "output_type": "execute_result"
    }
   ],
   "source": [
    "predictions = model.predict(X_test)\n",
    "# summarize the first 5 cases\n",
    "#results=pd.DataFrame(columns=['wind speed','predicted power','actual value'])\n",
    "df = pd.DataFrame(X_test)\n",
    "df['predicted power']=predictions\n",
    "df['actual value']=y_test\n",
    "#results['wind speed']=pd.Series()\n",
    "#results['predicted power']=predictions\n",
    "#results['actual value']=y_test\n",
    "#results\n",
    "df\n"
   ]
  },
  {
   "cell_type": "code",
   "execution_count": 35,
   "metadata": {},
   "outputs": [
    {
     "ename": "ValueError",
     "evalue": "continuous is not supported",
     "output_type": "error",
     "traceback": [
      "\u001b[1;31m---------------------------------------------------------------------------\u001b[0m",
      "\u001b[1;31mValueError\u001b[0m                                Traceback (most recent call last)",
      "\u001b[1;32m<ipython-input-35-a3e2321c8b52>\u001b[0m in \u001b[0;36m<module>\u001b[1;34m\u001b[0m\n\u001b[0;32m      2\u001b[0m \u001b[1;31m#nn_predict=model.perdict(X_test)\u001b[0m\u001b[1;33m\u001b[0m\u001b[1;33m\u001b[0m\u001b[1;33m\u001b[0m\u001b[0m\n\u001b[0;32m      3\u001b[0m \u001b[1;31m#from sklearn import metrics\u001b[0m\u001b[1;33m\u001b[0m\u001b[1;33m\u001b[0m\u001b[1;33m\u001b[0m\u001b[0m\n\u001b[1;32m----> 4\u001b[1;33m \u001b[0mprint\u001b[0m\u001b[1;33m(\u001b[0m\u001b[0mmetrics\u001b[0m\u001b[1;33m.\u001b[0m\u001b[0maccuracy_score\u001b[0m\u001b[1;33m(\u001b[0m\u001b[0mnp\u001b[0m\u001b[1;33m.\u001b[0m\u001b[0marray\u001b[0m\u001b[1;33m(\u001b[0m\u001b[0my_test\u001b[0m\u001b[1;33m)\u001b[0m\u001b[1;33m,\u001b[0m \u001b[0mnp\u001b[0m\u001b[1;33m.\u001b[0m\u001b[0marray\u001b[0m\u001b[1;33m(\u001b[0m\u001b[0my_pred\u001b[0m\u001b[1;33m)\u001b[0m\u001b[1;33m)\u001b[0m\u001b[1;33m)\u001b[0m\u001b[1;33m\u001b[0m\u001b[1;33m\u001b[0m\u001b[0m\n\u001b[0m\u001b[0;32m      5\u001b[0m \u001b[1;31m#print('accuracy ({0:.4f})'.format(metrics.accuracy_score(y_test,predictions)))\u001b[0m\u001b[1;33m\u001b[0m\u001b[1;33m\u001b[0m\u001b[1;33m\u001b[0m\u001b[0m\n",
      "\u001b[1;32m~\\anaconda3\\lib\\site-packages\\sklearn\\utils\\validation.py\u001b[0m in \u001b[0;36minner_f\u001b[1;34m(*args, **kwargs)\u001b[0m\n\u001b[0;32m     71\u001b[0m                           FutureWarning)\n\u001b[0;32m     72\u001b[0m         \u001b[0mkwargs\u001b[0m\u001b[1;33m.\u001b[0m\u001b[0mupdate\u001b[0m\u001b[1;33m(\u001b[0m\u001b[1;33m{\u001b[0m\u001b[0mk\u001b[0m\u001b[1;33m:\u001b[0m \u001b[0marg\u001b[0m \u001b[1;32mfor\u001b[0m \u001b[0mk\u001b[0m\u001b[1;33m,\u001b[0m \u001b[0marg\u001b[0m \u001b[1;32min\u001b[0m \u001b[0mzip\u001b[0m\u001b[1;33m(\u001b[0m\u001b[0msig\u001b[0m\u001b[1;33m.\u001b[0m\u001b[0mparameters\u001b[0m\u001b[1;33m,\u001b[0m \u001b[0margs\u001b[0m\u001b[1;33m)\u001b[0m\u001b[1;33m}\u001b[0m\u001b[1;33m)\u001b[0m\u001b[1;33m\u001b[0m\u001b[1;33m\u001b[0m\u001b[0m\n\u001b[1;32m---> 73\u001b[1;33m         \u001b[1;32mreturn\u001b[0m \u001b[0mf\u001b[0m\u001b[1;33m(\u001b[0m\u001b[1;33m**\u001b[0m\u001b[0mkwargs\u001b[0m\u001b[1;33m)\u001b[0m\u001b[1;33m\u001b[0m\u001b[1;33m\u001b[0m\u001b[0m\n\u001b[0m\u001b[0;32m     74\u001b[0m     \u001b[1;32mreturn\u001b[0m \u001b[0minner_f\u001b[0m\u001b[1;33m\u001b[0m\u001b[1;33m\u001b[0m\u001b[0m\n\u001b[0;32m     75\u001b[0m \u001b[1;33m\u001b[0m\u001b[0m\n",
      "\u001b[1;32m~\\anaconda3\\lib\\site-packages\\sklearn\\metrics\\_classification.py\u001b[0m in \u001b[0;36maccuracy_score\u001b[1;34m(y_true, y_pred, normalize, sample_weight)\u001b[0m\n\u001b[0;32m    185\u001b[0m \u001b[1;33m\u001b[0m\u001b[0m\n\u001b[0;32m    186\u001b[0m     \u001b[1;31m# Compute accuracy for each possible representation\u001b[0m\u001b[1;33m\u001b[0m\u001b[1;33m\u001b[0m\u001b[1;33m\u001b[0m\u001b[0m\n\u001b[1;32m--> 187\u001b[1;33m     \u001b[0my_type\u001b[0m\u001b[1;33m,\u001b[0m \u001b[0my_true\u001b[0m\u001b[1;33m,\u001b[0m \u001b[0my_pred\u001b[0m \u001b[1;33m=\u001b[0m \u001b[0m_check_targets\u001b[0m\u001b[1;33m(\u001b[0m\u001b[0my_true\u001b[0m\u001b[1;33m,\u001b[0m \u001b[0my_pred\u001b[0m\u001b[1;33m)\u001b[0m\u001b[1;33m\u001b[0m\u001b[1;33m\u001b[0m\u001b[0m\n\u001b[0m\u001b[0;32m    188\u001b[0m     \u001b[0mcheck_consistent_length\u001b[0m\u001b[1;33m(\u001b[0m\u001b[0my_true\u001b[0m\u001b[1;33m,\u001b[0m \u001b[0my_pred\u001b[0m\u001b[1;33m,\u001b[0m \u001b[0msample_weight\u001b[0m\u001b[1;33m)\u001b[0m\u001b[1;33m\u001b[0m\u001b[1;33m\u001b[0m\u001b[0m\n\u001b[0;32m    189\u001b[0m     \u001b[1;32mif\u001b[0m \u001b[0my_type\u001b[0m\u001b[1;33m.\u001b[0m\u001b[0mstartswith\u001b[0m\u001b[1;33m(\u001b[0m\u001b[1;34m'multilabel'\u001b[0m\u001b[1;33m)\u001b[0m\u001b[1;33m:\u001b[0m\u001b[1;33m\u001b[0m\u001b[1;33m\u001b[0m\u001b[0m\n",
      "\u001b[1;32m~\\anaconda3\\lib\\site-packages\\sklearn\\metrics\\_classification.py\u001b[0m in \u001b[0;36m_check_targets\u001b[1;34m(y_true, y_pred)\u001b[0m\n\u001b[0;32m     96\u001b[0m     \u001b[1;31m# No metrics support \"multiclass-multioutput\" format\u001b[0m\u001b[1;33m\u001b[0m\u001b[1;33m\u001b[0m\u001b[1;33m\u001b[0m\u001b[0m\n\u001b[0;32m     97\u001b[0m     \u001b[1;32mif\u001b[0m \u001b[1;33m(\u001b[0m\u001b[0my_type\u001b[0m \u001b[1;32mnot\u001b[0m \u001b[1;32min\u001b[0m \u001b[1;33m[\u001b[0m\u001b[1;34m\"binary\"\u001b[0m\u001b[1;33m,\u001b[0m \u001b[1;34m\"multiclass\"\u001b[0m\u001b[1;33m,\u001b[0m \u001b[1;34m\"multilabel-indicator\"\u001b[0m\u001b[1;33m]\u001b[0m\u001b[1;33m)\u001b[0m\u001b[1;33m:\u001b[0m\u001b[1;33m\u001b[0m\u001b[1;33m\u001b[0m\u001b[0m\n\u001b[1;32m---> 98\u001b[1;33m         \u001b[1;32mraise\u001b[0m \u001b[0mValueError\u001b[0m\u001b[1;33m(\u001b[0m\u001b[1;34m\"{0} is not supported\"\u001b[0m\u001b[1;33m.\u001b[0m\u001b[0mformat\u001b[0m\u001b[1;33m(\u001b[0m\u001b[0my_type\u001b[0m\u001b[1;33m)\u001b[0m\u001b[1;33m)\u001b[0m\u001b[1;33m\u001b[0m\u001b[1;33m\u001b[0m\u001b[0m\n\u001b[0m\u001b[0;32m     99\u001b[0m \u001b[1;33m\u001b[0m\u001b[0m\n\u001b[0;32m    100\u001b[0m     \u001b[1;32mif\u001b[0m \u001b[0my_type\u001b[0m \u001b[1;32min\u001b[0m \u001b[1;33m[\u001b[0m\u001b[1;34m\"binary\"\u001b[0m\u001b[1;33m,\u001b[0m \u001b[1;34m\"multiclass\"\u001b[0m\u001b[1;33m]\u001b[0m\u001b[1;33m:\u001b[0m\u001b[1;33m\u001b[0m\u001b[1;33m\u001b[0m\u001b[0m\n",
      "\u001b[1;31mValueError\u001b[0m: continuous is not supported"
     ]
    }
   ],
   "source": [
    "from sklearn import metrics\n",
    "#nn_predict=model.perdict(X_test)\n",
    "#from sklearn import metrics\n",
    "print(metrics.accuracy_score(np.array(y_test), np.array(y_pred)))\n",
    "#print('accuracy ({0:.4f})'.format(metrics.accuracy_score(y_test,predictions)))"
   ]
  },
  {
   "cell_type": "code",
   "execution_count": null,
   "metadata": {},
   "outputs": [],
   "source": [
    "model.save(\"neural_model.h5\")\n",
    "print(\"Neural network model saved as neural_model.h5\")"
   ]
  },
  {
   "cell_type": "markdown",
   "metadata": {},
   "source": [
    "## Random Forest Model"
   ]
  },
  {
   "cell_type": "code",
   "execution_count": 87,
   "metadata": {},
   "outputs": [],
   "source": [
    "from sklearn.model_selection import cross_val_score, GridSearchCV\n",
    "from sklearn.ensemble import RandomForestRegressor\n",
    "from sklearn.preprocessing import MinMaxScaler"
   ]
  },
  {
   "cell_type": "code",
   "execution_count": 92,
   "metadata": {},
   "outputs": [],
   "source": [
    "def rfr_model(X, y):\n",
    "# Perform Grid-Search\n",
    "    gsc = GridSearchCV(\n",
    "        estimator=RandomForestRegressor(),\n",
    "        param_grid={\n",
    "            'max_depth': range(3,7),\n",
    "            'n_estimators': (10, 50, 100, 1000),\n",
    "        },\n",
    "        cv=5, scoring='neg_mean_squared_error', verbose=0, n_jobs=-1)\n",
    "    \n",
    "    grid_result = gsc.fit(X, y)\n",
    "    best_params = grid_result.best_params_\n",
    "    \n",
    "    rfr = RandomForestRegressor(max_depth=best_params[\"max_depth\"], n_estimators=best_params[\"n_estimators\"],                               random_state=False, verbose=False)\n",
    "# Perform K-Fold CV\n",
    "    scores = cross_val_score(rfr, X, y, cv=10, scoring='neg_mean_absolute_error')\n",
    "\n",
    "    return scores"
   ]
  },
  {
   "cell_type": "code",
   "execution_count": 95,
   "metadata": {},
   "outputs": [
    {
     "data": {
      "text/plain": [
       "array([-2.01896265, -4.01580647, -3.38062471, -2.70549397, -2.63420149,\n",
       "       -2.08876539, -3.75063988, -4.15544857, -2.34235691, -2.81367468])"
      ]
     },
     "execution_count": 95,
     "metadata": {},
     "output_type": "execute_result"
    }
   ],
   "source": [
    "rmodel=rfr_model(X_train,y_train)\n",
    "rmodel"
   ]
  },
  {
   "cell_type": "code",
   "execution_count": 96,
   "metadata": {},
   "outputs": [],
   "source": [
    "reg2 = RandomForestRegressor(random_state=1)\n",
    "reg2.fit(X_train, y_train)\n",
    "pred2 = reg2.predict(X_test)"
   ]
  },
  {
   "cell_type": "code",
   "execution_count": 99,
   "metadata": {},
   "outputs": [
    {
     "data": {
      "image/png": "[encoded data removed]",
      "text/plain": [
       "<Figure size 432x288 with 1 Axes>"
      ]
     },
     "metadata": {
      "needs_background": "light"
     },
     "output_type": "display_data"
    }
   ],
   "source": [
    "# Look at prediction for the test data\n",
    "plt.plot(X_test, y_test, 'gx', label=\"test data\")\n",
    "plt.plot(X_test, reg2.predict(X_test), 'r.', label=\"Random Forest prediction\")\n",
    "plt.xlabel('Wind Speed')\n",
    "plt.ylabel('power (kW)')\n",
    "plt.title(\"Random Forest Model \")\n",
    "plt.grid()\n",
    "plt.legend()\n",
    "plt.show()"
   ]
  },
  {
   "cell_type": "code",
   "execution_count": 100,
   "metadata": {},
   "outputs": [
    {
     "data": {
      "text/plain": [
       "['randomF_model.pkl']"
      ]
     },
     "execution_count": 100,
     "metadata": {},
     "output_type": "execute_result"
    }
   ],
   "source": [
    "#joblib.dump(reg2, 'randomF_model.pkl') "
   ]
  },
  {
   "cell_type": "code",
   "execution_count": null,
   "metadata": {},
   "outputs": [],
   "source": [
    "#for using virtual env\n",
    "#python -m venv --system-site-packages .\\venv\n",
    "#.\\venv\\Scripts\\activate"
   ]
  },
  {
   "cell_type": "markdown",
   "metadata": {},
   "source": [
    "# References\n",
    "\n",
    " 1. What is the Sigmoid Function? https://deepai.org/machine-learning-glossary-and-terms/sigmoid-function#:~:text=One%20of%20the%20most%20widely,range%20(0%2C%201).&text=A%20sigmoid%20function%20placed%20as,to%20work%20with%20and%20interpret.\n",
    " 2. Ways to Detect and Remove the Outliers https://towardsdatascience.com/ways-to-detect-and-remove-the-outliers-404d16608dba accessed 19/11/2020\n",
    " 3. Understanding Non-Linear Regression available online from https://medium.com/towards-artificial-intelligence/understanding-non-linear-regression-fbef9a396b71 accessed on 22/12/2020\n",
    " 4. Machine Learning Basics: Polynomial Regression https://towardsdatascience.com/machine-learning-basics-polynomial-regression-3f9dd30223d1 accessed on 23/12/2020\n",
    "5. https://towardsdatascience.com/machine-learning-basics-support-vector-regression-660306ac5226"
   ]
  },
  {
   "cell_type": "code",
   "execution_count": null,
   "metadata": {},
   "outputs": [],
   "source": []
  },
  {
   "cell_type": "code",
   "execution_count": null,
   "metadata": {},
   "outputs": [],
   "source": []
  },
  {
   "cell_type": "code",
   "execution_count": null,
   "metadata": {},
   "outputs": [],
   "source": []
  }
 ],
 "metadata": {
  "kernelspec": {
   "display_name": "Python 3",
   "language": "python",
   "name": "python3"
  },
  "language_info": {
   "codemirror_mode": {
    "name": "ipython",
    "version": 3
   },
   "file_extension": ".py",
   "mimetype": "text/x-python",
   "name": "python",
   "nbconvert_exporter": "python",
   "pygments_lexer": "ipython3",
   "version": "3.8.3"
  }
 },
 "nbformat": 4,
 "nbformat_minor": 4
}
